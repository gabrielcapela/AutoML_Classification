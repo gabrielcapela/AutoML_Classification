{
 "cells": [
  {
   "cell_type": "markdown",
   "metadata": {},
   "source": [
    "---\n",
    "\n",
    "\n",
    "<img width=25% src=\"https://raw.githubusercontent.com/gabrielcapela/Credit-Card-Fraud-Detection-/main/images/myself.png\" align=right>\n",
    "\n",
    "# **Fetal Health Classification Project**\n",
    "\n",
    "*by Gabriel Capela*\n",
    "\n",
    "[<img src=\"https://img.shields.io/badge/LinkedIn-0077B5?style=for-the-badge&logo=linkedin&logoColor=white\"/>](https://www.linkedin.com/in/gabrielcapela)\n",
    "[<img src=\"https://img.shields.io/badge/Medium-12100E?style=for-the-badge&logo=medium&logoColor=white\" />](https://medium.com/@gabrielcapela)\n",
    "\n",
    "---\n",
    "\n",
    "**Reducing child mortality** is a fundamental goal of global health initiatives and a key indicator of human progress. The United Nations aims to eliminate preventable deaths of newborns and children under five by 2030, targeting an under‑5 mortality rate below 25 per 1,000 live births. Maternal mortality is another critical issue, with most deaths occurring in low-resource settings and being largely preventable.\n",
    "\n",
    "Cardiotocography (CTG) offers a cost-effective and non-invasive method to assess fetal health, monitoring fetal heart rate (FHR), movements, and uterine contractions. **This project leverages AutoML techniques to classify fetal health conditions** based on CTG data, aiming to support early diagnosis and intervention, ultimately contributing to maternal and child health improvements.\n",
    "<p align=\"center\">\n",
    "<img width=50% src=\"https://github.com/gabrielcapela/AutoML_Classification/blob/main/aditya-romansa-5zp0jym2w9M-unsplash.jpg?raw=true\">\n",
    "</p>\n",
    "\n",
    "The purpose of this project is to apply **Automated Machine Learning**, in order to demonstrate the practicality of this type of tool. The data used was taken from [Kaggle](https://www.kaggle.com/datasets/andrewmvd/fetal-health-classification?resource=download)."
   ]
  },
  {
   "cell_type": "markdown",
   "metadata": {},
   "source": [
    "# Business Understanding "
   ]
  },
  {
   "cell_type": "markdown",
   "metadata": {},
   "source": [
    "Child and maternal health are critical indicators of a country’s overall development and healthcare quality. The **reduction of child mortality is a priority** within the United Nations Sustainable Development Goals (SDGs), aiming to lower preventable deaths of newborns and children under five years old. The UN targets an under-5 mortality rate of at most 25 per 1,000 live births by 2030. Similarly, maternal mortality remains a major global health challenge, with approximately 295,000 deaths occurring during pregnancy and childbirth in 2017, 94% of which took place in low-resource settings. Many of these deaths could have been prevented with timely medical intervention.\n",
    "\n",
    "One of the most effective methods to assess fetal health and reduce risks to both mother and baby is **Cardiotocography** (CTG). This technology is a non-invasive, cost-effective diagnostic tool that monitors fetal heart rate (FHR), fetal movements, uterine contractions, and other physiological parameters. By analyzing CTG data, **healthcare professionals can detect early signs of fetal distress**, allowing for timely medical decisions that may prevent complications such as stillbirths, hypoxia, and premature birth-related issues.\n",
    "\n",
    "Despite its effectiveness, **the interpretation of CTG data remains challenging and subjective**, as it relies heavily on the expertise of healthcare providers. Classification systems powered by Machine Learning can significantly enhance this process by providing consistent, data-driven assessments of fetal health conditions. By leveraging historical CTG data, an ML approach can help classify fetal health status into categories such as:\n",
    "\n",
    "*   Normal: No signs of distress, healthy fetal condition.\n",
    "*   Suspicious: Potential risk factors that may require further observation.\n",
    "*   Pathological: Clear indicators of fetal distress, requiring immediate medical intervention.\n",
    "\n",
    "This project aims to develop an **AutoML model** capable of classifying fetal health status based on CTG data. By doing so, it seeks to:\n",
    "\n",
    "1.  Improve diagnostic accuracy by reducing human subjectivity in CTG interpretation.\n",
    "2.  Assist healthcare professionals in making faster and more informed decisions.\n",
    "3.  Enhance maternal and child health outcomes by enabling earlier interventions.\n",
    "\n",
    "Ultimately, this initiative contributes to public health efforts by providing a data-driven approach to fetal health assessment, supporting medical professionals in preventing perinatal complications and aligning with global healthcare goals."
   ]
  },
  {
   "cell_type": "markdown",
   "metadata": {},
   "source": [
    "# Data Understanding"
   ]
  },
  {
   "cell_type": "markdown",
   "metadata": {},
   "source": [
    "The dataset used can be downloaded from this [page](https://github.com/gabrielcapela/AutoML_Classification/blob/f36182cf3a150ce48632b0531ddd6373b2c0e3f9/fetal_health.csv)."
   ]
  },
  {
   "cell_type": "markdown",
   "metadata": {},
   "source": [
    "## Obtaining and Summary Analysis of Data"
   ]
  },
  {
   "cell_type": "markdown",
   "metadata": {},
   "source": [
    "Let's start by importing the data and previewing the first few rows to illustrate the meaning of each column:"
   ]
  },
  {
   "cell_type": "code",
   "execution_count": 1,
   "metadata": {},
   "outputs": [],
   "source": [
    "# Importing the necessary packages\n",
    "import pandas as pd\n",
    "import numpy as np\n",
    "import matplotlib.pyplot as plt\n",
    "import seaborn as sns"
   ]
  },
  {
   "cell_type": "code",
   "execution_count": 2,
   "metadata": {},
   "outputs": [
    {
     "name": "stdout",
     "output_type": "stream",
     "text": [
      "The data has 2126 rows and 22 variables\n"
     ]
    },
    {
     "data": {
      "text/html": [
       "<div>\n",
       "<style scoped>\n",
       "    .dataframe tbody tr th:only-of-type {\n",
       "        vertical-align: middle;\n",
       "    }\n",
       "\n",
       "    .dataframe tbody tr th {\n",
       "        vertical-align: top;\n",
       "    }\n",
       "\n",
       "    .dataframe thead th {\n",
       "        text-align: right;\n",
       "    }\n",
       "</style>\n",
       "<table border=\"1\" class=\"dataframe\">\n",
       "  <thead>\n",
       "    <tr style=\"text-align: right;\">\n",
       "      <th></th>\n",
       "      <th>baseline value</th>\n",
       "      <th>accelerations</th>\n",
       "      <th>fetal_movement</th>\n",
       "      <th>uterine_contractions</th>\n",
       "      <th>light_decelerations</th>\n",
       "      <th>severe_decelerations</th>\n",
       "      <th>prolongued_decelerations</th>\n",
       "      <th>abnormal_short_term_variability</th>\n",
       "      <th>mean_value_of_short_term_variability</th>\n",
       "      <th>percentage_of_time_with_abnormal_long_term_variability</th>\n",
       "      <th>...</th>\n",
       "      <th>histogram_min</th>\n",
       "      <th>histogram_max</th>\n",
       "      <th>histogram_number_of_peaks</th>\n",
       "      <th>histogram_number_of_zeroes</th>\n",
       "      <th>histogram_mode</th>\n",
       "      <th>histogram_mean</th>\n",
       "      <th>histogram_median</th>\n",
       "      <th>histogram_variance</th>\n",
       "      <th>histogram_tendency</th>\n",
       "      <th>fetal_health</th>\n",
       "    </tr>\n",
       "  </thead>\n",
       "  <tbody>\n",
       "    <tr>\n",
       "      <th>0</th>\n",
       "      <td>120.0</td>\n",
       "      <td>0.000</td>\n",
       "      <td>0.0</td>\n",
       "      <td>0.000</td>\n",
       "      <td>0.000</td>\n",
       "      <td>0.0</td>\n",
       "      <td>0.0</td>\n",
       "      <td>73.0</td>\n",
       "      <td>0.5</td>\n",
       "      <td>43.0</td>\n",
       "      <td>...</td>\n",
       "      <td>62.0</td>\n",
       "      <td>126.0</td>\n",
       "      <td>2.0</td>\n",
       "      <td>0.0</td>\n",
       "      <td>120.0</td>\n",
       "      <td>137.0</td>\n",
       "      <td>121.0</td>\n",
       "      <td>73.0</td>\n",
       "      <td>1.0</td>\n",
       "      <td>2.0</td>\n",
       "    </tr>\n",
       "    <tr>\n",
       "      <th>1</th>\n",
       "      <td>132.0</td>\n",
       "      <td>0.006</td>\n",
       "      <td>0.0</td>\n",
       "      <td>0.006</td>\n",
       "      <td>0.003</td>\n",
       "      <td>0.0</td>\n",
       "      <td>0.0</td>\n",
       "      <td>17.0</td>\n",
       "      <td>2.1</td>\n",
       "      <td>0.0</td>\n",
       "      <td>...</td>\n",
       "      <td>68.0</td>\n",
       "      <td>198.0</td>\n",
       "      <td>6.0</td>\n",
       "      <td>1.0</td>\n",
       "      <td>141.0</td>\n",
       "      <td>136.0</td>\n",
       "      <td>140.0</td>\n",
       "      <td>12.0</td>\n",
       "      <td>0.0</td>\n",
       "      <td>1.0</td>\n",
       "    </tr>\n",
       "    <tr>\n",
       "      <th>2</th>\n",
       "      <td>133.0</td>\n",
       "      <td>0.003</td>\n",
       "      <td>0.0</td>\n",
       "      <td>0.008</td>\n",
       "      <td>0.003</td>\n",
       "      <td>0.0</td>\n",
       "      <td>0.0</td>\n",
       "      <td>16.0</td>\n",
       "      <td>2.1</td>\n",
       "      <td>0.0</td>\n",
       "      <td>...</td>\n",
       "      <td>68.0</td>\n",
       "      <td>198.0</td>\n",
       "      <td>5.0</td>\n",
       "      <td>1.0</td>\n",
       "      <td>141.0</td>\n",
       "      <td>135.0</td>\n",
       "      <td>138.0</td>\n",
       "      <td>13.0</td>\n",
       "      <td>0.0</td>\n",
       "      <td>1.0</td>\n",
       "    </tr>\n",
       "    <tr>\n",
       "      <th>3</th>\n",
       "      <td>134.0</td>\n",
       "      <td>0.003</td>\n",
       "      <td>0.0</td>\n",
       "      <td>0.008</td>\n",
       "      <td>0.003</td>\n",
       "      <td>0.0</td>\n",
       "      <td>0.0</td>\n",
       "      <td>16.0</td>\n",
       "      <td>2.4</td>\n",
       "      <td>0.0</td>\n",
       "      <td>...</td>\n",
       "      <td>53.0</td>\n",
       "      <td>170.0</td>\n",
       "      <td>11.0</td>\n",
       "      <td>0.0</td>\n",
       "      <td>137.0</td>\n",
       "      <td>134.0</td>\n",
       "      <td>137.0</td>\n",
       "      <td>13.0</td>\n",
       "      <td>1.0</td>\n",
       "      <td>1.0</td>\n",
       "    </tr>\n",
       "    <tr>\n",
       "      <th>4</th>\n",
       "      <td>132.0</td>\n",
       "      <td>0.007</td>\n",
       "      <td>0.0</td>\n",
       "      <td>0.008</td>\n",
       "      <td>0.000</td>\n",
       "      <td>0.0</td>\n",
       "      <td>0.0</td>\n",
       "      <td>16.0</td>\n",
       "      <td>2.4</td>\n",
       "      <td>0.0</td>\n",
       "      <td>...</td>\n",
       "      <td>53.0</td>\n",
       "      <td>170.0</td>\n",
       "      <td>9.0</td>\n",
       "      <td>0.0</td>\n",
       "      <td>137.0</td>\n",
       "      <td>136.0</td>\n",
       "      <td>138.0</td>\n",
       "      <td>11.0</td>\n",
       "      <td>1.0</td>\n",
       "      <td>1.0</td>\n",
       "    </tr>\n",
       "  </tbody>\n",
       "</table>\n",
       "<p>5 rows × 22 columns</p>\n",
       "</div>"
      ],
      "text/plain": [
       "   baseline value  accelerations  fetal_movement  uterine_contractions  \\\n",
       "0           120.0          0.000             0.0                 0.000   \n",
       "1           132.0          0.006             0.0                 0.006   \n",
       "2           133.0          0.003             0.0                 0.008   \n",
       "3           134.0          0.003             0.0                 0.008   \n",
       "4           132.0          0.007             0.0                 0.008   \n",
       "\n",
       "   light_decelerations  severe_decelerations  prolongued_decelerations  \\\n",
       "0                0.000                   0.0                       0.0   \n",
       "1                0.003                   0.0                       0.0   \n",
       "2                0.003                   0.0                       0.0   \n",
       "3                0.003                   0.0                       0.0   \n",
       "4                0.000                   0.0                       0.0   \n",
       "\n",
       "   abnormal_short_term_variability  mean_value_of_short_term_variability  \\\n",
       "0                             73.0                                   0.5   \n",
       "1                             17.0                                   2.1   \n",
       "2                             16.0                                   2.1   \n",
       "3                             16.0                                   2.4   \n",
       "4                             16.0                                   2.4   \n",
       "\n",
       "   percentage_of_time_with_abnormal_long_term_variability  ...  histogram_min  \\\n",
       "0                                               43.0       ...           62.0   \n",
       "1                                                0.0       ...           68.0   \n",
       "2                                                0.0       ...           68.0   \n",
       "3                                                0.0       ...           53.0   \n",
       "4                                                0.0       ...           53.0   \n",
       "\n",
       "   histogram_max  histogram_number_of_peaks  histogram_number_of_zeroes  \\\n",
       "0          126.0                        2.0                         0.0   \n",
       "1          198.0                        6.0                         1.0   \n",
       "2          198.0                        5.0                         1.0   \n",
       "3          170.0                       11.0                         0.0   \n",
       "4          170.0                        9.0                         0.0   \n",
       "\n",
       "   histogram_mode  histogram_mean  histogram_median  histogram_variance  \\\n",
       "0           120.0           137.0             121.0                73.0   \n",
       "1           141.0           136.0             140.0                12.0   \n",
       "2           141.0           135.0             138.0                13.0   \n",
       "3           137.0           134.0             137.0                13.0   \n",
       "4           137.0           136.0             138.0                11.0   \n",
       "\n",
       "   histogram_tendency  fetal_health  \n",
       "0                 1.0           2.0  \n",
       "1                 0.0           1.0  \n",
       "2                 0.0           1.0  \n",
       "3                 1.0           1.0  \n",
       "4                 1.0           1.0  \n",
       "\n",
       "[5 rows x 22 columns]"
      ]
     },
     "execution_count": 2,
     "metadata": {},
     "output_type": "execute_result"
    }
   ],
   "source": [
    "# Importing the dataset\n",
    "df = pd.read_csv('https://github.com/gabrielcapela/AutoML_Classification/raw/refs/heads/main/fetal_health.csv')\n",
    "#Showing the first 5 lines\n",
    "print(f\"The data has {df.shape[0]} rows and {df.shape[1]} variables\")\n",
    "df.head()"
   ]
  },
  {
   "cell_type": "markdown",
   "metadata": {},
   "source": [
    "Below is the meaning of each variable:\n",
    "\n",
    "*   **baseline_value**: the mean fetal heart rate (FHR) in beats per minute (bpm).\n",
    "*   **accelerations**: the mean number of FHR accelerations per second.\n",
    "*   **fetal_movement**: the mean number of detected fetal movements per second.\n",
    "*   **uterine_contractions**: the mean number of detected uterine contractions per second.\n",
    "*   **light_decelerations**: the mean number of mild FHR decelerations per second.\n",
    "*   **severe_decelerations**: the mean number of severe FHR decelerations per second.\n",
    "*   **prolongued_decelerations**: the mean number of prolonged FHR decelerations per second.\n",
    "*   **abnormal_short_term_variability**: the percentage of time with abnormal short-term FHR variability.\n",
    "*   **mean_value_of_short_term_variability**: the mean value of short-term FHR variability in bpm.\n",
    "*   **percentage_of_time_with_abnormal_long_term_variability**: the percentage of time with abnormal long-term FHR variability.\n",
    "*   **mean_value_of_long_term_variability**: the mean value of long-term FHR variability in bpm.\n",
    "*   **histogram_width**: the width of the FHR histogram, indicating the range of variations.\n",
    "*   **histogram_min:** the minimum recorded FHR value in the histogram.\n",
    "*   **histogram_max**: the maximum recorded FHR value in the histogram.\n",
    "*   **histogram_number_of_peaks**: the number of peaks in the FHR histogram.\n",
    "*   **histogram_number_of_zeroes**: the number of zero values in the FHR histogram.\n",
    "*   **histogram_mode**: the most frequent FHR value.\n",
    "*   **histogram_mean**: the mean FHR value recorded in the histogram.\n",
    "*   **histogram_median**: the median FHR value recorded in the histogram.\n",
    "*   **histogram_variance**: the variance of FHR values in the histogram, indicating dispersion.\n",
    "*   **histogram_tendency**: the overall tendency of the FHR histogram (positive values indicate an upward trend, negative values indicate a downward trend).\n",
    "\n",
    "*   **fetal_health**: the classification of fetal health status:\n",
    "\n",
    "1 → Normal\n",
    "\n",
    "2 → Suspect\n",
    "\n",
    "3 → Pathological"
   ]
  },
  {
   "cell_type": "markdown",
   "metadata": {},
   "source": [
    "## Pandas Profiling"
   ]
  },
  {
   "cell_type": "markdown",
   "metadata": {},
   "source": [
    "In order to explore AutoML tools, I will be using **Pandas Profiling**, which is a powerful tool that automates exploratory data analysis (EDA) and makes it easy to visualize and understand the characteristics of a dataset. With the ability to **generate interactive reports in HTML** format, it provides detailed insights into each variable, such as distributions, missing values, and outliers."
   ]
  },
  {
   "cell_type": "code",
   "execution_count": 3,
   "metadata": {},
   "outputs": [
    {
     "data": {
      "application/vnd.jupyter.widget-view+json": {
       "model_id": "8a70d967a1704f6aa4926fec0aa36e41",
       "version_major": 2,
       "version_minor": 0
      },
      "text/plain": [
       "Summarize dataset:   0%|          | 0/5 [00:00<?, ?it/s]"
      ]
     },
     "metadata": {},
     "output_type": "display_data"
    },
    {
     "data": {
      "application/vnd.jupyter.widget-view+json": {
       "model_id": "a18972a7b7104b5783e35a752d886cb1",
       "version_major": 2,
       "version_minor": 0
      },
      "text/plain": [
       "Generate report structure:   0%|          | 0/1 [00:00<?, ?it/s]"
      ]
     },
     "metadata": {},
     "output_type": "display_data"
    },
    {
     "data": {
      "application/vnd.jupyter.widget-view+json": {
       "model_id": "0b624aa84c7144a29fe83db730c257bc",
       "version_major": 2,
       "version_minor": 0
      },
      "text/plain": [
       "Render HTML:   0%|          | 0/1 [00:00<?, ?it/s]"
      ]
     },
     "metadata": {},
     "output_type": "display_data"
    },
    {
     "data": {
      "application/vnd.jupyter.widget-view+json": {
       "model_id": "833769493aab4635afc9768adae13f8c",
       "version_major": 2,
       "version_minor": 0
      },
      "text/plain": [
       "Export report to file:   0%|          | 0/1 [00:00<?, ?it/s]"
      ]
     },
     "metadata": {},
     "output_type": "display_data"
    }
   ],
   "source": [
    "# Importing the required package\n",
    "from ydata_profiling import ProfileReport\n",
    "\n",
    "# Creating the report\n",
    "profile = ProfileReport(df, title=\"Report\", explorative=True)\n",
    "\n",
    "# Transforming to html format\n",
    "profile.to_file(\"report.html\")"
   ]
  },
  {
   "cell_type": "markdown",
   "metadata": {},
   "source": [
    "Click [**HERE**](https://gabrielcapela.github.io/fetal_health_classification/report.html) to see the report"
   ]
  },
  {
   "cell_type": "markdown",
   "metadata": {},
   "source": [
    "**Some observations** can already be made:\n",
    "\n",
    "*   The dataset shows several very **strong correlations** between certain variables, especially between histogram-related features (such as histogram_mean, histogram_max, histogram_median, etc.) and variability variables, such as abnormal_short_term_variability and mean_value_of_short_term_variability. These correlations indicate that the variables may be measuring similar aspects of the same information.\n",
    "\n",
    "*   The dataset contains **11 duplicate rows** (0.5%), which means that some observations are repeated. This can distort the model's results, since the model may \"learn\" patterns incorrectly from these repetitions. These duplicates will be removed before PyCaret takes action, to prevent the model from overfitting redundant data, which can negatively impact performance.\n",
    "\n",
    "*   The severe_decelerations variable is **significantly unbalanced**, with 96.8% of the data concentrated in a single class. However, it is worth noting that this is not the target variable of the model, which means that its impact on model training may be indirect.\n",
    "T\n",
    "*   The **fetal_health target** variable is unbalanced across its three classes; PyCaret will be configured to handle this issue.\n",
    "\n",
    "*   Several variables, such as accelerations, fetal_movement, and prolonged_decelerations, have a **large number of zero values**. These zeros are probably not input errors, but rather indications that, at the time of the scan, these events did not occur. Therefore, these zeros can be interpreted as valid information and represent the absence of certain features in the fetal scan."
   ]
  },
  {
   "cell_type": "markdown",
   "metadata": {},
   "source": [
    "# Data Preparation"
   ]
  },
  {
   "cell_type": "markdown",
   "metadata": {},
   "source": [
    "As a first action we will delete the duplicate lines"
   ]
  },
  {
   "cell_type": "code",
   "execution_count": 4,
   "metadata": {},
   "outputs": [
    {
     "name": "stdout",
     "output_type": "stream",
     "text": [
      "Rows deleted: 13\n"
     ]
    }
   ],
   "source": [
    "# Deleting duplicate rows\n",
    "print(f'Rows deleted: {len(df) - len(df.drop_duplicates())}')\n",
    "# Drop the duplicates\n",
    "df.drop_duplicates(inplace=True)"
   ]
  },
  {
   "cell_type": "markdown",
   "metadata": {},
   "source": [
    "## About PyCaret"
   ]
  },
  {
   "cell_type": "markdown",
   "metadata": {},
   "source": [
    "**PyCaret** is a Python AutoML library that simplifies the process of building, testing, and optimizing machine learning models. It automates tasks such as model selection, hyperparameter tuning, and performance evaluation, making the workflow faster and more accessible.\n",
    "\n",
    "For more details, visit [PyCaret](https://pycaret.org)."
   ]
  },
  {
   "cell_type": "markdown",
   "metadata": {},
   "source": [
    "PyCaret already performs several steps of **data preprocessing automatically**, such as missing value treatment, categorical variable encoding, feature scaling, and outlier detection. Manual preprocessing can sometimes lead to better results, but we will stick to PyCaret’s built-in capabilities to **evaluate the efficiency of AutoM**L."
   ]
  },
  {
   "cell_type": "markdown",
   "metadata": {},
   "source": [
    "## Division of data"
   ]
  },
  {
   "cell_type": "markdown",
   "metadata": {},
   "source": [
    "Although PyCaret already automatically splits the data into training and testing data within the setup() function, choosing to **pre-separate a training set before** delivering it to AutoML can bring important benefits to the reliability and robustness of the model evaluation. One of the benefits, for example, is avoiding data leakage – If the model is optimized based on PyCaret's internal test set, it can indirectly \"learn\" patterns that it would not have in a real application.\n",
    "Having an external set for final validation – This allows a more realistic evaluation of the model's performance before putting it into production."
   ]
  },
  {
   "cell_type": "code",
   "execution_count": 5,
   "metadata": {},
   "outputs": [
    {
     "name": "stdout",
     "output_type": "stream",
     "text": [
      "(317, 22)\n",
      "(1796, 22)\n"
     ]
    }
   ],
   "source": [
    "# Separating data into test and training\n",
    "test = df.sample(frac=0.15)\n",
    "train = df.drop(test.index)\n",
    "\n",
    "test.reset_index(inplace=True, drop=True)\n",
    "train.reset_index(inplace=True, drop=True)\n",
    "\n",
    "print(test.shape)\n",
    "print(train.shape)"
   ]
  },
  {
   "cell_type": "markdown",
   "metadata": {},
   "source": [
    "# Modeling"
   ]
  },
  {
   "cell_type": "code",
   "execution_count": 6,
   "metadata": {},
   "outputs": [],
   "source": [
    "# Importing the necessary packages\n",
    "from pycaret.classification import setup, compare_models, models, create_model, predict_model\n",
    "from pycaret.classification  import tune_model, plot_model, evaluate_model, finalize_model\n",
    "from pycaret.classification  import save_model, load_model"
   ]
  },
  {
   "cell_type": "markdown",
   "metadata": {},
   "source": [
    "## Defining the setup"
   ]
  },
  {
   "cell_type": "markdown",
   "metadata": {},
   "source": [
    "PyCaret's setup() is the main function for initializing a machine learning experiment. It prepares the data, sets up the pipeline configuration, and applies preprocessing automatically."
   ]
  },
  {
   "cell_type": "code",
   "execution_count": 7,
   "metadata": {},
   "outputs": [
    {
     "data": {
      "text/html": [
       "<style type=\"text/css\">\n",
       "#T_0352b_row9_col1, #T_0352b_row13_col1 {\n",
       "  background-color: lightgreen;\n",
       "}\n",
       "</style>\n",
       "<table id=\"T_0352b\">\n",
       "  <thead>\n",
       "    <tr>\n",
       "      <th class=\"blank level0\" >&nbsp;</th>\n",
       "      <th id=\"T_0352b_level0_col0\" class=\"col_heading level0 col0\" >Description</th>\n",
       "      <th id=\"T_0352b_level0_col1\" class=\"col_heading level0 col1\" >Value</th>\n",
       "    </tr>\n",
       "  </thead>\n",
       "  <tbody>\n",
       "    <tr>\n",
       "      <th id=\"T_0352b_level0_row0\" class=\"row_heading level0 row0\" >0</th>\n",
       "      <td id=\"T_0352b_row0_col0\" class=\"data row0 col0\" >Session id</td>\n",
       "      <td id=\"T_0352b_row0_col1\" class=\"data row0 col1\" >1791</td>\n",
       "    </tr>\n",
       "    <tr>\n",
       "      <th id=\"T_0352b_level0_row1\" class=\"row_heading level0 row1\" >1</th>\n",
       "      <td id=\"T_0352b_row1_col0\" class=\"data row1 col0\" >Target</td>\n",
       "      <td id=\"T_0352b_row1_col1\" class=\"data row1 col1\" >fetal_health</td>\n",
       "    </tr>\n",
       "    <tr>\n",
       "      <th id=\"T_0352b_level0_row2\" class=\"row_heading level0 row2\" >2</th>\n",
       "      <td id=\"T_0352b_row2_col0\" class=\"data row2 col0\" >Target type</td>\n",
       "      <td id=\"T_0352b_row2_col1\" class=\"data row2 col1\" >Multiclass</td>\n",
       "    </tr>\n",
       "    <tr>\n",
       "      <th id=\"T_0352b_level0_row3\" class=\"row_heading level0 row3\" >3</th>\n",
       "      <td id=\"T_0352b_row3_col0\" class=\"data row3 col0\" >Target mapping</td>\n",
       "      <td id=\"T_0352b_row3_col1\" class=\"data row3 col1\" >1.0: 0, 2.0: 1, 3.0: 2</td>\n",
       "    </tr>\n",
       "    <tr>\n",
       "      <th id=\"T_0352b_level0_row4\" class=\"row_heading level0 row4\" >4</th>\n",
       "      <td id=\"T_0352b_row4_col0\" class=\"data row4 col0\" >Original data shape</td>\n",
       "      <td id=\"T_0352b_row4_col1\" class=\"data row4 col1\" >(2113, 22)</td>\n",
       "    </tr>\n",
       "    <tr>\n",
       "      <th id=\"T_0352b_level0_row5\" class=\"row_heading level0 row5\" >5</th>\n",
       "      <td id=\"T_0352b_row5_col0\" class=\"data row5 col0\" >Transformed data shape</td>\n",
       "      <td id=\"T_0352b_row5_col1\" class=\"data row5 col1\" >(4090, 22)</td>\n",
       "    </tr>\n",
       "    <tr>\n",
       "      <th id=\"T_0352b_level0_row6\" class=\"row_heading level0 row6\" >6</th>\n",
       "      <td id=\"T_0352b_row6_col0\" class=\"data row6 col0\" >Transformed train set shape</td>\n",
       "      <td id=\"T_0352b_row6_col1\" class=\"data row6 col1\" >(3456, 22)</td>\n",
       "    </tr>\n",
       "    <tr>\n",
       "      <th id=\"T_0352b_level0_row7\" class=\"row_heading level0 row7\" >7</th>\n",
       "      <td id=\"T_0352b_row7_col0\" class=\"data row7 col0\" >Transformed test set shape</td>\n",
       "      <td id=\"T_0352b_row7_col1\" class=\"data row7 col1\" >(634, 22)</td>\n",
       "    </tr>\n",
       "    <tr>\n",
       "      <th id=\"T_0352b_level0_row8\" class=\"row_heading level0 row8\" >8</th>\n",
       "      <td id=\"T_0352b_row8_col0\" class=\"data row8 col0\" >Numeric features</td>\n",
       "      <td id=\"T_0352b_row8_col1\" class=\"data row8 col1\" >21</td>\n",
       "    </tr>\n",
       "    <tr>\n",
       "      <th id=\"T_0352b_level0_row9\" class=\"row_heading level0 row9\" >9</th>\n",
       "      <td id=\"T_0352b_row9_col0\" class=\"data row9 col0\" >Preprocess</td>\n",
       "      <td id=\"T_0352b_row9_col1\" class=\"data row9 col1\" >True</td>\n",
       "    </tr>\n",
       "    <tr>\n",
       "      <th id=\"T_0352b_level0_row10\" class=\"row_heading level0 row10\" >10</th>\n",
       "      <td id=\"T_0352b_row10_col0\" class=\"data row10 col0\" >Imputation type</td>\n",
       "      <td id=\"T_0352b_row10_col1\" class=\"data row10 col1\" >simple</td>\n",
       "    </tr>\n",
       "    <tr>\n",
       "      <th id=\"T_0352b_level0_row11\" class=\"row_heading level0 row11\" >11</th>\n",
       "      <td id=\"T_0352b_row11_col0\" class=\"data row11 col0\" >Numeric imputation</td>\n",
       "      <td id=\"T_0352b_row11_col1\" class=\"data row11 col1\" >mean</td>\n",
       "    </tr>\n",
       "    <tr>\n",
       "      <th id=\"T_0352b_level0_row12\" class=\"row_heading level0 row12\" >12</th>\n",
       "      <td id=\"T_0352b_row12_col0\" class=\"data row12 col0\" >Categorical imputation</td>\n",
       "      <td id=\"T_0352b_row12_col1\" class=\"data row12 col1\" >mode</td>\n",
       "    </tr>\n",
       "    <tr>\n",
       "      <th id=\"T_0352b_level0_row13\" class=\"row_heading level0 row13\" >13</th>\n",
       "      <td id=\"T_0352b_row13_col0\" class=\"data row13 col0\" >Fix imbalance</td>\n",
       "      <td id=\"T_0352b_row13_col1\" class=\"data row13 col1\" >True</td>\n",
       "    </tr>\n",
       "    <tr>\n",
       "      <th id=\"T_0352b_level0_row14\" class=\"row_heading level0 row14\" >14</th>\n",
       "      <td id=\"T_0352b_row14_col0\" class=\"data row14 col0\" >Fix imbalance method</td>\n",
       "      <td id=\"T_0352b_row14_col1\" class=\"data row14 col1\" >SMOTE</td>\n",
       "    </tr>\n",
       "    <tr>\n",
       "      <th id=\"T_0352b_level0_row15\" class=\"row_heading level0 row15\" >15</th>\n",
       "      <td id=\"T_0352b_row15_col0\" class=\"data row15 col0\" >Fold Generator</td>\n",
       "      <td id=\"T_0352b_row15_col1\" class=\"data row15 col1\" >StratifiedKFold</td>\n",
       "    </tr>\n",
       "    <tr>\n",
       "      <th id=\"T_0352b_level0_row16\" class=\"row_heading level0 row16\" >16</th>\n",
       "      <td id=\"T_0352b_row16_col0\" class=\"data row16 col0\" >Fold Number</td>\n",
       "      <td id=\"T_0352b_row16_col1\" class=\"data row16 col1\" >10</td>\n",
       "    </tr>\n",
       "    <tr>\n",
       "      <th id=\"T_0352b_level0_row17\" class=\"row_heading level0 row17\" >17</th>\n",
       "      <td id=\"T_0352b_row17_col0\" class=\"data row17 col0\" >CPU Jobs</td>\n",
       "      <td id=\"T_0352b_row17_col1\" class=\"data row17 col1\" >-1</td>\n",
       "    </tr>\n",
       "    <tr>\n",
       "      <th id=\"T_0352b_level0_row18\" class=\"row_heading level0 row18\" >18</th>\n",
       "      <td id=\"T_0352b_row18_col0\" class=\"data row18 col0\" >Use GPU</td>\n",
       "      <td id=\"T_0352b_row18_col1\" class=\"data row18 col1\" >False</td>\n",
       "    </tr>\n",
       "    <tr>\n",
       "      <th id=\"T_0352b_level0_row19\" class=\"row_heading level0 row19\" >19</th>\n",
       "      <td id=\"T_0352b_row19_col0\" class=\"data row19 col0\" >Log Experiment</td>\n",
       "      <td id=\"T_0352b_row19_col1\" class=\"data row19 col1\" >False</td>\n",
       "    </tr>\n",
       "    <tr>\n",
       "      <th id=\"T_0352b_level0_row20\" class=\"row_heading level0 row20\" >20</th>\n",
       "      <td id=\"T_0352b_row20_col0\" class=\"data row20 col0\" >Experiment Name</td>\n",
       "      <td id=\"T_0352b_row20_col1\" class=\"data row20 col1\" >clf-default-name</td>\n",
       "    </tr>\n",
       "    <tr>\n",
       "      <th id=\"T_0352b_level0_row21\" class=\"row_heading level0 row21\" >21</th>\n",
       "      <td id=\"T_0352b_row21_col0\" class=\"data row21 col0\" >USI</td>\n",
       "      <td id=\"T_0352b_row21_col1\" class=\"data row21 col1\" >30ab</td>\n",
       "    </tr>\n",
       "  </tbody>\n",
       "</table>\n"
      ],
      "text/plain": [
       "<pandas.io.formats.style.Styler at 0x132d4bcd0>"
      ]
     },
     "metadata": {},
     "output_type": "display_data"
    }
   ],
   "source": [
    "# Initializing the PyCaret environment with target variable balancing\n",
    "classification_setup = setup(data=df, target='fetal_health', fix_imbalance=True)"
   ]
  },
  {
   "cell_type": "markdown",
   "metadata": {},
   "source": [
    "## Creating the pipeline\n"
   ]
  },
  {
   "cell_type": "markdown",
   "metadata": {},
   "source": [
    "The pipeline is an **automated preprocessing and modeling workflow** that ensures that all transformations applied to the training data are replicated on the test data and new predictions.\n",
    "\n",
    "When we call setup(), PyCaret creates a pipeline that includes steps such as missing value handling, categorical variable encoding, normalization, outlier removal, and feature selection. This pipeline is automatically applied to all trained models, ensuring consistency and **eliminating the need to repeat these steps manually**."
   ]
  },
  {
   "cell_type": "code",
   "execution_count": 9,
   "metadata": {},
   "outputs": [
    {
     "data": {
      "text/html": [
       "<style type=\"text/css\">\n",
       "#T_686d4_row9_col1, #T_686d4_row13_col1 {\n",
       "  background-color: lightgreen;\n",
       "}\n",
       "</style>\n",
       "<table id=\"T_686d4\">\n",
       "  <thead>\n",
       "    <tr>\n",
       "      <th class=\"blank level0\" >&nbsp;</th>\n",
       "      <th id=\"T_686d4_level0_col0\" class=\"col_heading level0 col0\" >Description</th>\n",
       "      <th id=\"T_686d4_level0_col1\" class=\"col_heading level0 col1\" >Value</th>\n",
       "    </tr>\n",
       "  </thead>\n",
       "  <tbody>\n",
       "    <tr>\n",
       "      <th id=\"T_686d4_level0_row0\" class=\"row_heading level0 row0\" >0</th>\n",
       "      <td id=\"T_686d4_row0_col0\" class=\"data row0 col0\" >Session id</td>\n",
       "      <td id=\"T_686d4_row0_col1\" class=\"data row0 col1\" >2076</td>\n",
       "    </tr>\n",
       "    <tr>\n",
       "      <th id=\"T_686d4_level0_row1\" class=\"row_heading level0 row1\" >1</th>\n",
       "      <td id=\"T_686d4_row1_col0\" class=\"data row1 col0\" >Target</td>\n",
       "      <td id=\"T_686d4_row1_col1\" class=\"data row1 col1\" >fetal_health</td>\n",
       "    </tr>\n",
       "    <tr>\n",
       "      <th id=\"T_686d4_level0_row2\" class=\"row_heading level0 row2\" >2</th>\n",
       "      <td id=\"T_686d4_row2_col0\" class=\"data row2 col0\" >Target type</td>\n",
       "      <td id=\"T_686d4_row2_col1\" class=\"data row2 col1\" >Multiclass</td>\n",
       "    </tr>\n",
       "    <tr>\n",
       "      <th id=\"T_686d4_level0_row3\" class=\"row_heading level0 row3\" >3</th>\n",
       "      <td id=\"T_686d4_row3_col0\" class=\"data row3 col0\" >Target mapping</td>\n",
       "      <td id=\"T_686d4_row3_col1\" class=\"data row3 col1\" >1.0: 0, 2.0: 1, 3.0: 2</td>\n",
       "    </tr>\n",
       "    <tr>\n",
       "      <th id=\"T_686d4_level0_row4\" class=\"row_heading level0 row4\" >4</th>\n",
       "      <td id=\"T_686d4_row4_col0\" class=\"data row4 col0\" >Original data shape</td>\n",
       "      <td id=\"T_686d4_row4_col1\" class=\"data row4 col1\" >(1796, 22)</td>\n",
       "    </tr>\n",
       "    <tr>\n",
       "      <th id=\"T_686d4_level0_row5\" class=\"row_heading level0 row5\" >5</th>\n",
       "      <td id=\"T_686d4_row5_col0\" class=\"data row5 col0\" >Transformed data shape</td>\n",
       "      <td id=\"T_686d4_row5_col1\" class=\"data row5 col1\" >(1796, 22)</td>\n",
       "    </tr>\n",
       "    <tr>\n",
       "      <th id=\"T_686d4_level0_row6\" class=\"row_heading level0 row6\" >6</th>\n",
       "      <td id=\"T_686d4_row6_col0\" class=\"data row6 col0\" >Transformed train set shape</td>\n",
       "      <td id=\"T_686d4_row6_col1\" class=\"data row6 col1\" >(1257, 22)</td>\n",
       "    </tr>\n",
       "    <tr>\n",
       "      <th id=\"T_686d4_level0_row7\" class=\"row_heading level0 row7\" >7</th>\n",
       "      <td id=\"T_686d4_row7_col0\" class=\"data row7 col0\" >Transformed test set shape</td>\n",
       "      <td id=\"T_686d4_row7_col1\" class=\"data row7 col1\" >(539, 22)</td>\n",
       "    </tr>\n",
       "    <tr>\n",
       "      <th id=\"T_686d4_level0_row8\" class=\"row_heading level0 row8\" >8</th>\n",
       "      <td id=\"T_686d4_row8_col0\" class=\"data row8 col0\" >Numeric features</td>\n",
       "      <td id=\"T_686d4_row8_col1\" class=\"data row8 col1\" >21</td>\n",
       "    </tr>\n",
       "    <tr>\n",
       "      <th id=\"T_686d4_level0_row9\" class=\"row_heading level0 row9\" >9</th>\n",
       "      <td id=\"T_686d4_row9_col0\" class=\"data row9 col0\" >Preprocess</td>\n",
       "      <td id=\"T_686d4_row9_col1\" class=\"data row9 col1\" >True</td>\n",
       "    </tr>\n",
       "    <tr>\n",
       "      <th id=\"T_686d4_level0_row10\" class=\"row_heading level0 row10\" >10</th>\n",
       "      <td id=\"T_686d4_row10_col0\" class=\"data row10 col0\" >Imputation type</td>\n",
       "      <td id=\"T_686d4_row10_col1\" class=\"data row10 col1\" >simple</td>\n",
       "    </tr>\n",
       "    <tr>\n",
       "      <th id=\"T_686d4_level0_row11\" class=\"row_heading level0 row11\" >11</th>\n",
       "      <td id=\"T_686d4_row11_col0\" class=\"data row11 col0\" >Numeric imputation</td>\n",
       "      <td id=\"T_686d4_row11_col1\" class=\"data row11 col1\" >mean</td>\n",
       "    </tr>\n",
       "    <tr>\n",
       "      <th id=\"T_686d4_level0_row12\" class=\"row_heading level0 row12\" >12</th>\n",
       "      <td id=\"T_686d4_row12_col0\" class=\"data row12 col0\" >Categorical imputation</td>\n",
       "      <td id=\"T_686d4_row12_col1\" class=\"data row12 col1\" >mode</td>\n",
       "    </tr>\n",
       "    <tr>\n",
       "      <th id=\"T_686d4_level0_row13\" class=\"row_heading level0 row13\" >13</th>\n",
       "      <td id=\"T_686d4_row13_col0\" class=\"data row13 col0\" >Normalize</td>\n",
       "      <td id=\"T_686d4_row13_col1\" class=\"data row13 col1\" >True</td>\n",
       "    </tr>\n",
       "    <tr>\n",
       "      <th id=\"T_686d4_level0_row14\" class=\"row_heading level0 row14\" >14</th>\n",
       "      <td id=\"T_686d4_row14_col0\" class=\"data row14 col0\" >Normalize method</td>\n",
       "      <td id=\"T_686d4_row14_col1\" class=\"data row14 col1\" >zscore</td>\n",
       "    </tr>\n",
       "    <tr>\n",
       "      <th id=\"T_686d4_level0_row15\" class=\"row_heading level0 row15\" >15</th>\n",
       "      <td id=\"T_686d4_row15_col0\" class=\"data row15 col0\" >Fold Generator</td>\n",
       "      <td id=\"T_686d4_row15_col1\" class=\"data row15 col1\" >StratifiedKFold</td>\n",
       "    </tr>\n",
       "    <tr>\n",
       "      <th id=\"T_686d4_level0_row16\" class=\"row_heading level0 row16\" >16</th>\n",
       "      <td id=\"T_686d4_row16_col0\" class=\"data row16 col0\" >Fold Number</td>\n",
       "      <td id=\"T_686d4_row16_col1\" class=\"data row16 col1\" >10</td>\n",
       "    </tr>\n",
       "    <tr>\n",
       "      <th id=\"T_686d4_level0_row17\" class=\"row_heading level0 row17\" >17</th>\n",
       "      <td id=\"T_686d4_row17_col0\" class=\"data row17 col0\" >CPU Jobs</td>\n",
       "      <td id=\"T_686d4_row17_col1\" class=\"data row17 col1\" >-1</td>\n",
       "    </tr>\n",
       "    <tr>\n",
       "      <th id=\"T_686d4_level0_row18\" class=\"row_heading level0 row18\" >18</th>\n",
       "      <td id=\"T_686d4_row18_col0\" class=\"data row18 col0\" >Use GPU</td>\n",
       "      <td id=\"T_686d4_row18_col1\" class=\"data row18 col1\" >False</td>\n",
       "    </tr>\n",
       "    <tr>\n",
       "      <th id=\"T_686d4_level0_row19\" class=\"row_heading level0 row19\" >19</th>\n",
       "      <td id=\"T_686d4_row19_col0\" class=\"data row19 col0\" >Log Experiment</td>\n",
       "      <td id=\"T_686d4_row19_col1\" class=\"data row19 col1\" >False</td>\n",
       "    </tr>\n",
       "    <tr>\n",
       "      <th id=\"T_686d4_level0_row20\" class=\"row_heading level0 row20\" >20</th>\n",
       "      <td id=\"T_686d4_row20_col0\" class=\"data row20 col0\" >Experiment Name</td>\n",
       "      <td id=\"T_686d4_row20_col1\" class=\"data row20 col1\" >test_01</td>\n",
       "    </tr>\n",
       "    <tr>\n",
       "      <th id=\"T_686d4_level0_row21\" class=\"row_heading level0 row21\" >21</th>\n",
       "      <td id=\"T_686d4_row21_col0\" class=\"data row21 col0\" >USI</td>\n",
       "      <td id=\"T_686d4_row21_col1\" class=\"data row21 col1\" >860b</td>\n",
       "    </tr>\n",
       "  </tbody>\n",
       "</table>\n"
      ],
      "text/plain": [
       "<pandas.io.formats.style.Styler at 0x1366439a0>"
      ]
     },
     "metadata": {},
     "output_type": "display_data"
    }
   ],
   "source": [
    "# Creating the pipeline\n",
    "reg = setup(data = train,\n",
    "            target = 'fetal_health',\n",
    "            normalize = True,\n",
    "            #log_experiment = True,\n",
    "            experiment_name = 'test_01')"
   ]
  },
  {
   "cell_type": "markdown",
   "metadata": {},
   "source": [
    "## Comparing the models"
   ]
  },
  {
   "cell_type": "markdown",
   "metadata": {},
   "source": [
    "PyCaret's **compare_models()** function automatically evaluates multiple classification models and compares them based on performance metrics. It uses 10-fold cross-validation (fold=10), ensuring a more robust evaluation by splitting the training data into 10 parts and averaging the results.\n",
    "\n",
    "By default, models are evaluated using the following metrics:\n",
    "\n",
    "*   **Accuracy**: The percentage of correct predictions.\n",
    "*   **AUC** (Area Under the Curve): Measures the model’s ability to distinguish between classes.\n",
    "*   **Recall**: The proportion of true positive predictions among all actual positives.\n",
    "*   **Precision**: The proportion of true positive predictions among all positive predictions.\n",
    "*   **F1 Score**: The harmonic mean of precision and recall, balancing both metrics.\n",
    "*   **Kappa**: Measures the agreement between predicted and actual classes, adjusted for chance.\n",
    "*   **MCC**(Matthews Correlation Coefficient): Measures the quality of classification considering all confusion matrix outcomes, useful for imbalanced problems.\n",
    "\n",
    "This function allows you to quickly identify the best-performing model based on your preferred metric, without having to manually train and tune each model.\n",
    "\n",
    "In this project we will choose **AUC-ROC** (Area Under the Curve - Receiver Operating Characteristic) as the evaluation metric for this fetal health classification problem, as this metric measures the model's ability to distinguish between the three classes, regardless of any class imbalance."
   ]
  },
  {
   "cell_type": "code",
   "execution_count": 11,
   "metadata": {},
   "outputs": [
    {
     "data": {
      "text/html": [],
      "text/plain": [
       "<IPython.core.display.HTML object>"
      ]
     },
     "metadata": {},
     "output_type": "display_data"
    },
    {
     "data": {
      "text/html": [
       "<style type=\"text/css\">\n",
       "#T_0929e th {\n",
       "  text-align: left;\n",
       "}\n",
       "#T_0929e_row0_col0, #T_0929e_row1_col0, #T_0929e_row1_col1, #T_0929e_row1_col2, #T_0929e_row1_col3, #T_0929e_row1_col4, #T_0929e_row1_col5, #T_0929e_row1_col6, #T_0929e_row1_col7, #T_0929e_row2_col0, #T_0929e_row2_col1, #T_0929e_row2_col2, #T_0929e_row2_col3, #T_0929e_row2_col4, #T_0929e_row2_col5, #T_0929e_row2_col6, #T_0929e_row2_col7, #T_0929e_row3_col0, #T_0929e_row3_col1, #T_0929e_row3_col2, #T_0929e_row3_col3, #T_0929e_row3_col4, #T_0929e_row3_col5, #T_0929e_row3_col6, #T_0929e_row3_col7, #T_0929e_row4_col0, #T_0929e_row4_col1, #T_0929e_row4_col2, #T_0929e_row4_col3, #T_0929e_row4_col4, #T_0929e_row4_col5, #T_0929e_row4_col6, #T_0929e_row4_col7, #T_0929e_row5_col0, #T_0929e_row5_col1, #T_0929e_row5_col2, #T_0929e_row5_col3, #T_0929e_row5_col4, #T_0929e_row5_col5, #T_0929e_row5_col6, #T_0929e_row5_col7, #T_0929e_row6_col0, #T_0929e_row6_col1, #T_0929e_row6_col2, #T_0929e_row6_col3, #T_0929e_row6_col4, #T_0929e_row6_col5, #T_0929e_row6_col6, #T_0929e_row6_col7, #T_0929e_row7_col0, #T_0929e_row7_col1, #T_0929e_row7_col2, #T_0929e_row7_col3, #T_0929e_row7_col4, #T_0929e_row7_col5, #T_0929e_row7_col6, #T_0929e_row7_col7, #T_0929e_row8_col0, #T_0929e_row8_col1, #T_0929e_row8_col2, #T_0929e_row8_col3, #T_0929e_row8_col4, #T_0929e_row8_col5, #T_0929e_row8_col6, #T_0929e_row8_col7, #T_0929e_row9_col0, #T_0929e_row9_col1, #T_0929e_row9_col2, #T_0929e_row9_col3, #T_0929e_row9_col4, #T_0929e_row9_col5, #T_0929e_row9_col6, #T_0929e_row9_col7, #T_0929e_row10_col0, #T_0929e_row10_col1, #T_0929e_row10_col2, #T_0929e_row10_col3, #T_0929e_row10_col4, #T_0929e_row10_col5, #T_0929e_row10_col6, #T_0929e_row10_col7, #T_0929e_row11_col0, #T_0929e_row11_col1, #T_0929e_row11_col2, #T_0929e_row11_col3, #T_0929e_row11_col4, #T_0929e_row11_col5, #T_0929e_row11_col6, #T_0929e_row11_col7, #T_0929e_row12_col0, #T_0929e_row12_col1, #T_0929e_row12_col2, #T_0929e_row12_col3, #T_0929e_row12_col4, #T_0929e_row12_col5, #T_0929e_row12_col6, #T_0929e_row12_col7, #T_0929e_row13_col0, #T_0929e_row13_col1, #T_0929e_row13_col2, #T_0929e_row13_col3, #T_0929e_row13_col4, #T_0929e_row13_col5, #T_0929e_row13_col6, #T_0929e_row13_col7, #T_0929e_row14_col0, #T_0929e_row14_col1, #T_0929e_row14_col2, #T_0929e_row14_col3, #T_0929e_row14_col4, #T_0929e_row14_col5, #T_0929e_row14_col6, #T_0929e_row14_col7, #T_0929e_row15_col0, #T_0929e_row15_col1, #T_0929e_row15_col2, #T_0929e_row15_col3, #T_0929e_row15_col4, #T_0929e_row15_col5, #T_0929e_row15_col6, #T_0929e_row15_col7 {\n",
       "  text-align: left;\n",
       "}\n",
       "#T_0929e_row0_col1, #T_0929e_row0_col2, #T_0929e_row0_col3, #T_0929e_row0_col4, #T_0929e_row0_col5, #T_0929e_row0_col6, #T_0929e_row0_col7 {\n",
       "  text-align: left;\n",
       "  background-color: yellow;\n",
       "}\n",
       "#T_0929e_row0_col8, #T_0929e_row1_col8, #T_0929e_row2_col8, #T_0929e_row3_col8, #T_0929e_row4_col8, #T_0929e_row5_col8, #T_0929e_row7_col8, #T_0929e_row8_col8, #T_0929e_row9_col8, #T_0929e_row10_col8, #T_0929e_row11_col8, #T_0929e_row12_col8, #T_0929e_row13_col8, #T_0929e_row14_col8, #T_0929e_row15_col8 {\n",
       "  text-align: left;\n",
       "  background-color: lightgrey;\n",
       "}\n",
       "#T_0929e_row6_col8 {\n",
       "  text-align: left;\n",
       "  background-color: yellow;\n",
       "  background-color: lightgrey;\n",
       "}\n",
       "</style>\n",
       "<table id=\"T_0929e\">\n",
       "  <thead>\n",
       "    <tr>\n",
       "      <th class=\"blank level0\" >&nbsp;</th>\n",
       "      <th id=\"T_0929e_level0_col0\" class=\"col_heading level0 col0\" >Model</th>\n",
       "      <th id=\"T_0929e_level0_col1\" class=\"col_heading level0 col1\" >Accuracy</th>\n",
       "      <th id=\"T_0929e_level0_col2\" class=\"col_heading level0 col2\" >AUC</th>\n",
       "      <th id=\"T_0929e_level0_col3\" class=\"col_heading level0 col3\" >Recall</th>\n",
       "      <th id=\"T_0929e_level0_col4\" class=\"col_heading level0 col4\" >Prec.</th>\n",
       "      <th id=\"T_0929e_level0_col5\" class=\"col_heading level0 col5\" >F1</th>\n",
       "      <th id=\"T_0929e_level0_col6\" class=\"col_heading level0 col6\" >Kappa</th>\n",
       "      <th id=\"T_0929e_level0_col7\" class=\"col_heading level0 col7\" >MCC</th>\n",
       "      <th id=\"T_0929e_level0_col8\" class=\"col_heading level0 col8\" >TT (Sec)</th>\n",
       "    </tr>\n",
       "  </thead>\n",
       "  <tbody>\n",
       "    <tr>\n",
       "      <th id=\"T_0929e_level0_row0\" class=\"row_heading level0 row0\" >lightgbm</th>\n",
       "      <td id=\"T_0929e_row0_col0\" class=\"data row0 col0\" >Light Gradient Boosting Machine</td>\n",
       "      <td id=\"T_0929e_row0_col1\" class=\"data row0 col1\" >0.9507</td>\n",
       "      <td id=\"T_0929e_row0_col2\" class=\"data row0 col2\" >0.9873</td>\n",
       "      <td id=\"T_0929e_row0_col3\" class=\"data row0 col3\" >0.9507</td>\n",
       "      <td id=\"T_0929e_row0_col4\" class=\"data row0 col4\" >0.9507</td>\n",
       "      <td id=\"T_0929e_row0_col5\" class=\"data row0 col5\" >0.9494</td>\n",
       "      <td id=\"T_0929e_row0_col6\" class=\"data row0 col6\" >0.8603</td>\n",
       "      <td id=\"T_0929e_row0_col7\" class=\"data row0 col7\" >0.8622</td>\n",
       "      <td id=\"T_0929e_row0_col8\" class=\"data row0 col8\" >1.1420</td>\n",
       "    </tr>\n",
       "    <tr>\n",
       "      <th id=\"T_0929e_level0_row1\" class=\"row_heading level0 row1\" >xgboost</th>\n",
       "      <td id=\"T_0929e_row1_col0\" class=\"data row1 col0\" >Extreme Gradient Boosting</td>\n",
       "      <td id=\"T_0929e_row1_col1\" class=\"data row1 col1\" >0.9483</td>\n",
       "      <td id=\"T_0929e_row1_col2\" class=\"data row1 col2\" >0.9871</td>\n",
       "      <td id=\"T_0929e_row1_col3\" class=\"data row1 col3\" >0.9483</td>\n",
       "      <td id=\"T_0929e_row1_col4\" class=\"data row1 col4\" >0.9487</td>\n",
       "      <td id=\"T_0929e_row1_col5\" class=\"data row1 col5\" >0.9472</td>\n",
       "      <td id=\"T_0929e_row1_col6\" class=\"data row1 col6\" >0.8546</td>\n",
       "      <td id=\"T_0929e_row1_col7\" class=\"data row1 col7\" >0.8564</td>\n",
       "      <td id=\"T_0929e_row1_col8\" class=\"data row1 col8\" >0.1880</td>\n",
       "    </tr>\n",
       "    <tr>\n",
       "      <th id=\"T_0929e_level0_row2\" class=\"row_heading level0 row2\" >rf</th>\n",
       "      <td id=\"T_0929e_row2_col0\" class=\"data row2 col0\" >Random Forest Classifier</td>\n",
       "      <td id=\"T_0929e_row2_col1\" class=\"data row2 col1\" >0.9284</td>\n",
       "      <td id=\"T_0929e_row2_col2\" class=\"data row2 col2\" >0.9856</td>\n",
       "      <td id=\"T_0929e_row2_col3\" class=\"data row2 col3\" >0.9284</td>\n",
       "      <td id=\"T_0929e_row2_col4\" class=\"data row2 col4\" >0.9259</td>\n",
       "      <td id=\"T_0929e_row2_col5\" class=\"data row2 col5\" >0.9247</td>\n",
       "      <td id=\"T_0929e_row2_col6\" class=\"data row2 col6\" >0.7907</td>\n",
       "      <td id=\"T_0929e_row2_col7\" class=\"data row2 col7\" >0.7951</td>\n",
       "      <td id=\"T_0929e_row2_col8\" class=\"data row2 col8\" >0.3360</td>\n",
       "    </tr>\n",
       "    <tr>\n",
       "      <th id=\"T_0929e_level0_row3\" class=\"row_heading level0 row3\" >catboost</th>\n",
       "      <td id=\"T_0929e_row3_col0\" class=\"data row3 col0\" >CatBoost Classifier</td>\n",
       "      <td id=\"T_0929e_row3_col1\" class=\"data row3 col1\" >0.9459</td>\n",
       "      <td id=\"T_0929e_row3_col2\" class=\"data row3 col2\" >0.9854</td>\n",
       "      <td id=\"T_0929e_row3_col3\" class=\"data row3 col3\" >0.9459</td>\n",
       "      <td id=\"T_0929e_row3_col4\" class=\"data row3 col4\" >0.9453</td>\n",
       "      <td id=\"T_0929e_row3_col5\" class=\"data row3 col5\" >0.9444</td>\n",
       "      <td id=\"T_0929e_row3_col6\" class=\"data row3 col6\" >0.8459</td>\n",
       "      <td id=\"T_0929e_row3_col7\" class=\"data row3 col7\" >0.8481</td>\n",
       "      <td id=\"T_0929e_row3_col8\" class=\"data row3 col8\" >3.7730</td>\n",
       "    </tr>\n",
       "    <tr>\n",
       "      <th id=\"T_0929e_level0_row4\" class=\"row_heading level0 row4\" >et</th>\n",
       "      <td id=\"T_0929e_row4_col0\" class=\"data row4 col0\" >Extra Trees Classifier</td>\n",
       "      <td id=\"T_0929e_row4_col1\" class=\"data row4 col1\" >0.9181</td>\n",
       "      <td id=\"T_0929e_row4_col2\" class=\"data row4 col2\" >0.9784</td>\n",
       "      <td id=\"T_0929e_row4_col3\" class=\"data row4 col3\" >0.9181</td>\n",
       "      <td id=\"T_0929e_row4_col4\" class=\"data row4 col4\" >0.9137</td>\n",
       "      <td id=\"T_0929e_row4_col5\" class=\"data row4 col5\" >0.9137</td>\n",
       "      <td id=\"T_0929e_row4_col6\" class=\"data row4 col6\" >0.7597</td>\n",
       "      <td id=\"T_0929e_row4_col7\" class=\"data row4 col7\" >0.7644</td>\n",
       "      <td id=\"T_0929e_row4_col8\" class=\"data row4 col8\" >0.2490</td>\n",
       "    </tr>\n",
       "    <tr>\n",
       "      <th id=\"T_0929e_level0_row5\" class=\"row_heading level0 row5\" >knn</th>\n",
       "      <td id=\"T_0929e_row5_col0\" class=\"data row5 col0\" >K Neighbors Classifier</td>\n",
       "      <td id=\"T_0929e_row5_col1\" class=\"data row5 col1\" >0.8862</td>\n",
       "      <td id=\"T_0929e_row5_col2\" class=\"data row5 col2\" >0.9345</td>\n",
       "      <td id=\"T_0929e_row5_col3\" class=\"data row5 col3\" >0.8862</td>\n",
       "      <td id=\"T_0929e_row5_col4\" class=\"data row5 col4\" >0.8785</td>\n",
       "      <td id=\"T_0929e_row5_col5\" class=\"data row5 col5\" >0.8780</td>\n",
       "      <td id=\"T_0929e_row5_col6\" class=\"data row5 col6\" >0.6554</td>\n",
       "      <td id=\"T_0929e_row5_col7\" class=\"data row5 col7\" >0.6643</td>\n",
       "      <td id=\"T_0929e_row5_col8\" class=\"data row5 col8\" >0.0690</td>\n",
       "    </tr>\n",
       "    <tr>\n",
       "      <th id=\"T_0929e_level0_row6\" class=\"row_heading level0 row6\" >nb</th>\n",
       "      <td id=\"T_0929e_row6_col0\" class=\"data row6 col0\" >Naive Bayes</td>\n",
       "      <td id=\"T_0929e_row6_col1\" class=\"data row6 col1\" >0.7009</td>\n",
       "      <td id=\"T_0929e_row6_col2\" class=\"data row6 col2\" >0.9215</td>\n",
       "      <td id=\"T_0929e_row6_col3\" class=\"data row6 col3\" >0.7009</td>\n",
       "      <td id=\"T_0929e_row6_col4\" class=\"data row6 col4\" >0.8629</td>\n",
       "      <td id=\"T_0929e_row6_col5\" class=\"data row6 col5\" >0.7382</td>\n",
       "      <td id=\"T_0929e_row6_col6\" class=\"data row6 col6\" >0.4289</td>\n",
       "      <td id=\"T_0929e_row6_col7\" class=\"data row6 col7\" >0.4951</td>\n",
       "      <td id=\"T_0929e_row6_col8\" class=\"data row6 col8\" >0.0430</td>\n",
       "    </tr>\n",
       "    <tr>\n",
       "      <th id=\"T_0929e_level0_row7\" class=\"row_heading level0 row7\" >dt</th>\n",
       "      <td id=\"T_0929e_row7_col0\" class=\"data row7 col0\" >Decision Tree Classifier</td>\n",
       "      <td id=\"T_0929e_row7_col1\" class=\"data row7 col1\" >0.9094</td>\n",
       "      <td id=\"T_0929e_row7_col2\" class=\"data row7 col2\" >0.8803</td>\n",
       "      <td id=\"T_0929e_row7_col3\" class=\"data row7 col3\" >0.9094</td>\n",
       "      <td id=\"T_0929e_row7_col4\" class=\"data row7 col4\" >0.9106</td>\n",
       "      <td id=\"T_0929e_row7_col5\" class=\"data row7 col5\" >0.9086</td>\n",
       "      <td id=\"T_0929e_row7_col6\" class=\"data row7 col6\" >0.7489</td>\n",
       "      <td id=\"T_0929e_row7_col7\" class=\"data row7 col7\" >0.7514</td>\n",
       "      <td id=\"T_0929e_row7_col8\" class=\"data row7 col8\" >0.0480</td>\n",
       "    </tr>\n",
       "    <tr>\n",
       "      <th id=\"T_0929e_level0_row8\" class=\"row_heading level0 row8\" >dummy</th>\n",
       "      <td id=\"T_0929e_row8_col0\" class=\"data row8 col0\" >Dummy Classifier</td>\n",
       "      <td id=\"T_0929e_row8_col1\" class=\"data row8 col1\" >0.7804</td>\n",
       "      <td id=\"T_0929e_row8_col2\" class=\"data row8 col2\" >0.5000</td>\n",
       "      <td id=\"T_0929e_row8_col3\" class=\"data row8 col3\" >0.7804</td>\n",
       "      <td id=\"T_0929e_row8_col4\" class=\"data row8 col4\" >0.6091</td>\n",
       "      <td id=\"T_0929e_row8_col5\" class=\"data row8 col5\" >0.6842</td>\n",
       "      <td id=\"T_0929e_row8_col6\" class=\"data row8 col6\" >0.0000</td>\n",
       "      <td id=\"T_0929e_row8_col7\" class=\"data row8 col7\" >0.0000</td>\n",
       "      <td id=\"T_0929e_row8_col8\" class=\"data row8 col8\" >0.0470</td>\n",
       "    </tr>\n",
       "    <tr>\n",
       "      <th id=\"T_0929e_level0_row9\" class=\"row_heading level0 row9\" >lr</th>\n",
       "      <td id=\"T_0929e_row9_col0\" class=\"data row9 col0\" >Logistic Regression</td>\n",
       "      <td id=\"T_0929e_row9_col1\" class=\"data row9 col1\" >0.8862</td>\n",
       "      <td id=\"T_0929e_row9_col2\" class=\"data row9 col2\" >0.0000</td>\n",
       "      <td id=\"T_0929e_row9_col3\" class=\"data row9 col3\" >0.8862</td>\n",
       "      <td id=\"T_0929e_row9_col4\" class=\"data row9 col4\" >0.8879</td>\n",
       "      <td id=\"T_0929e_row9_col5\" class=\"data row9 col5\" >0.8842</td>\n",
       "      <td id=\"T_0929e_row9_col6\" class=\"data row9 col6\" >0.6807</td>\n",
       "      <td id=\"T_0929e_row9_col7\" class=\"data row9 col7\" >0.6841</td>\n",
       "      <td id=\"T_0929e_row9_col8\" class=\"data row9 col8\" >1.9040</td>\n",
       "    </tr>\n",
       "    <tr>\n",
       "      <th id=\"T_0929e_level0_row10\" class=\"row_heading level0 row10\" >svm</th>\n",
       "      <td id=\"T_0929e_row10_col0\" class=\"data row10 col0\" >SVM - Linear Kernel</td>\n",
       "      <td id=\"T_0929e_row10_col1\" class=\"data row10 col1\" >0.8743</td>\n",
       "      <td id=\"T_0929e_row10_col2\" class=\"data row10 col2\" >0.0000</td>\n",
       "      <td id=\"T_0929e_row10_col3\" class=\"data row10 col3\" >0.8743</td>\n",
       "      <td id=\"T_0929e_row10_col4\" class=\"data row10 col4\" >0.8779</td>\n",
       "      <td id=\"T_0929e_row10_col5\" class=\"data row10 col5\" >0.8717</td>\n",
       "      <td id=\"T_0929e_row10_col6\" class=\"data row10 col6\" >0.6468</td>\n",
       "      <td id=\"T_0929e_row10_col7\" class=\"data row10 col7\" >0.6549</td>\n",
       "      <td id=\"T_0929e_row10_col8\" class=\"data row10 col8\" >0.0950</td>\n",
       "    </tr>\n",
       "    <tr>\n",
       "      <th id=\"T_0929e_level0_row11\" class=\"row_heading level0 row11\" >ridge</th>\n",
       "      <td id=\"T_0929e_row11_col0\" class=\"data row11 col0\" >Ridge Classifier</td>\n",
       "      <td id=\"T_0929e_row11_col1\" class=\"data row11 col1\" >0.8560</td>\n",
       "      <td id=\"T_0929e_row11_col2\" class=\"data row11 col2\" >0.0000</td>\n",
       "      <td id=\"T_0929e_row11_col3\" class=\"data row11 col3\" >0.8560</td>\n",
       "      <td id=\"T_0929e_row11_col4\" class=\"data row11 col4\" >0.8399</td>\n",
       "      <td id=\"T_0929e_row11_col5\" class=\"data row11 col5\" >0.8371</td>\n",
       "      <td id=\"T_0929e_row11_col6\" class=\"data row11 col6\" >0.5303</td>\n",
       "      <td id=\"T_0929e_row11_col7\" class=\"data row11 col7\" >0.5538</td>\n",
       "      <td id=\"T_0929e_row11_col8\" class=\"data row11 col8\" >0.0700</td>\n",
       "    </tr>\n",
       "    <tr>\n",
       "      <th id=\"T_0929e_level0_row12\" class=\"row_heading level0 row12\" >qda</th>\n",
       "      <td id=\"T_0929e_row12_col0\" class=\"data row12 col0\" >Quadratic Discriminant Analysis</td>\n",
       "      <td id=\"T_0929e_row12_col1\" class=\"data row12 col1\" >0.6874</td>\n",
       "      <td id=\"T_0929e_row12_col2\" class=\"data row12 col2\" >0.0000</td>\n",
       "      <td id=\"T_0929e_row12_col3\" class=\"data row12 col3\" >0.6874</td>\n",
       "      <td id=\"T_0929e_row12_col4\" class=\"data row12 col4\" >0.8664</td>\n",
       "      <td id=\"T_0929e_row12_col5\" class=\"data row12 col5\" >0.7298</td>\n",
       "      <td id=\"T_0929e_row12_col6\" class=\"data row12 col6\" >0.4039</td>\n",
       "      <td id=\"T_0929e_row12_col7\" class=\"data row12 col7\" >0.4732</td>\n",
       "      <td id=\"T_0929e_row12_col8\" class=\"data row12 col8\" >0.0440</td>\n",
       "    </tr>\n",
       "    <tr>\n",
       "      <th id=\"T_0929e_level0_row13\" class=\"row_heading level0 row13\" >ada</th>\n",
       "      <td id=\"T_0929e_row13_col0\" class=\"data row13 col0\" >Ada Boost Classifier</td>\n",
       "      <td id=\"T_0929e_row13_col1\" class=\"data row13 col1\" >0.8735</td>\n",
       "      <td id=\"T_0929e_row13_col2\" class=\"data row13 col2\" >0.0000</td>\n",
       "      <td id=\"T_0929e_row13_col3\" class=\"data row13 col3\" >0.8735</td>\n",
       "      <td id=\"T_0929e_row13_col4\" class=\"data row13 col4\" >0.8792</td>\n",
       "      <td id=\"T_0929e_row13_col5\" class=\"data row13 col5\" >0.8744</td>\n",
       "      <td id=\"T_0929e_row13_col6\" class=\"data row13 col6\" >0.6555</td>\n",
       "      <td id=\"T_0929e_row13_col7\" class=\"data row13 col7\" >0.6584</td>\n",
       "      <td id=\"T_0929e_row13_col8\" class=\"data row13 col8\" >0.1650</td>\n",
       "    </tr>\n",
       "    <tr>\n",
       "      <th id=\"T_0929e_level0_row14\" class=\"row_heading level0 row14\" >gbc</th>\n",
       "      <td id=\"T_0929e_row14_col0\" class=\"data row14 col0\" >Gradient Boosting Classifier</td>\n",
       "      <td id=\"T_0929e_row14_col1\" class=\"data row14 col1\" >0.9499</td>\n",
       "      <td id=\"T_0929e_row14_col2\" class=\"data row14 col2\" >0.0000</td>\n",
       "      <td id=\"T_0929e_row14_col3\" class=\"data row14 col3\" >0.9499</td>\n",
       "      <td id=\"T_0929e_row14_col4\" class=\"data row14 col4\" >0.9489</td>\n",
       "      <td id=\"T_0929e_row14_col5\" class=\"data row14 col5\" >0.9478</td>\n",
       "      <td id=\"T_0929e_row14_col6\" class=\"data row14 col6\" >0.8553</td>\n",
       "      <td id=\"T_0929e_row14_col7\" class=\"data row14 col7\" >0.8584</td>\n",
       "      <td id=\"T_0929e_row14_col8\" class=\"data row14 col8\" >0.6970</td>\n",
       "    </tr>\n",
       "    <tr>\n",
       "      <th id=\"T_0929e_level0_row15\" class=\"row_heading level0 row15\" >lda</th>\n",
       "      <td id=\"T_0929e_row15_col0\" class=\"data row15 col0\" >Linear Discriminant Analysis</td>\n",
       "      <td id=\"T_0929e_row15_col1\" class=\"data row15 col1\" >0.8751</td>\n",
       "      <td id=\"T_0929e_row15_col2\" class=\"data row15 col2\" >0.0000</td>\n",
       "      <td id=\"T_0929e_row15_col3\" class=\"data row15 col3\" >0.8751</td>\n",
       "      <td id=\"T_0929e_row15_col4\" class=\"data row15 col4\" >0.8732</td>\n",
       "      <td id=\"T_0929e_row15_col5\" class=\"data row15 col5\" >0.8708</td>\n",
       "      <td id=\"T_0929e_row15_col6\" class=\"data row15 col6\" >0.6386</td>\n",
       "      <td id=\"T_0929e_row15_col7\" class=\"data row15 col7\" >0.6424</td>\n",
       "      <td id=\"T_0929e_row15_col8\" class=\"data row15 col8\" >0.0740</td>\n",
       "    </tr>\n",
       "  </tbody>\n",
       "</table>\n"
      ],
      "text/plain": [
       "<pandas.io.formats.style.Styler at 0x133044d60>"
      ]
     },
     "metadata": {},
     "output_type": "display_data"
    },
    {
     "data": {
      "text/html": [],
      "text/plain": [
       "<IPython.core.display.HTML object>"
      ]
     },
     "metadata": {},
     "output_type": "display_data"
    }
   ],
   "source": [
    "import logging\n",
    "# Suppressing the log output from LightGBM and other libraries\n",
    "logging.getLogger(\"pycaret\").setLevel(logging.WARNING)\n",
    "logging.getLogger(\"lightgbm\").setLevel(logging.WARNING)\n",
    "\n",
    "# Now running compare_models using the AUC metric for ordering\n",
    "best = compare_models(sort='AUC')"
   ]
  },
  {
   "cell_type": "code",
   "execution_count": 12,
   "metadata": {},
   "outputs": [
    {
     "name": "stdout",
     "output_type": "stream",
     "text": [
      "LGBMClassifier(boosting_type='gbdt', class_weight=None, colsample_bytree=1.0,\n",
      "               importance_type='split', learning_rate=0.1, max_depth=-1,\n",
      "               min_child_samples=20, min_child_weight=0.001, min_split_gain=0.0,\n",
      "               n_estimators=100, n_jobs=-1, num_leaves=31, objective=None,\n",
      "               random_state=2076, reg_alpha=0.0, reg_lambda=0.0, subsample=1.0,\n",
      "               subsample_for_bin=200000, subsample_freq=0)\n"
     ]
    }
   ],
   "source": [
    "# Checking the best model \n",
    "print(best)"
   ]
  },
  {
   "cell_type": "markdown",
   "metadata": {},
   "source": [
    "## Instantiating the model"
   ]
  },
  {
   "cell_type": "markdown",
   "metadata": {},
   "source": [
    "PyCaret's compare_models() function **does not train** a definitive model, it simply evaluates and compares different regression algorithms, displaying a grid with their performance metrics. To use a specific model, **you need to select and instantiate it manually** using the create_model() function.\n",
    "\n",
    "The chosen model is the **Gradient Boosting Regressor**, which is based on decision trees that **combine multiple weak estimators to create a stronger and more accurate model**. It works by training the trees sequentially, where each new tree learns to correct the errors of the previous ones, reducing the residual error of the model."
   ]
  },
  {
   "cell_type": "code",
   "execution_count": null,
   "metadata": {},
   "outputs": [
    {
     "data": {
      "text/html": [],
      "text/plain": [
       "<IPython.core.display.HTML object>"
      ]
     },
     "metadata": {},
     "output_type": "display_data"
    },
    {
     "data": {
      "text/html": [
       "<style type=\"text/css\">\n",
       "#T_ae844_row10_col0, #T_ae844_row10_col1, #T_ae844_row10_col2, #T_ae844_row10_col3, #T_ae844_row10_col4, #T_ae844_row10_col5 {\n",
       "  background: yellow;\n",
       "}\n",
       "</style>\n",
       "<table id=\"T_ae844\">\n",
       "  <thead>\n",
       "    <tr>\n",
       "      <th class=\"blank level0\" >&nbsp;</th>\n",
       "      <th id=\"T_ae844_level0_col0\" class=\"col_heading level0 col0\" >MAE</th>\n",
       "      <th id=\"T_ae844_level0_col1\" class=\"col_heading level0 col1\" >MSE</th>\n",
       "      <th id=\"T_ae844_level0_col2\" class=\"col_heading level0 col2\" >RMSE</th>\n",
       "      <th id=\"T_ae844_level0_col3\" class=\"col_heading level0 col3\" >R2</th>\n",
       "      <th id=\"T_ae844_level0_col4\" class=\"col_heading level0 col4\" >RMSLE</th>\n",
       "      <th id=\"T_ae844_level0_col5\" class=\"col_heading level0 col5\" >MAPE</th>\n",
       "    </tr>\n",
       "    <tr>\n",
       "      <th class=\"index_name level0\" >Fold</th>\n",
       "      <th class=\"blank col0\" >&nbsp;</th>\n",
       "      <th class=\"blank col1\" >&nbsp;</th>\n",
       "      <th class=\"blank col2\" >&nbsp;</th>\n",
       "      <th class=\"blank col3\" >&nbsp;</th>\n",
       "      <th class=\"blank col4\" >&nbsp;</th>\n",
       "      <th class=\"blank col5\" >&nbsp;</th>\n",
       "    </tr>\n",
       "  </thead>\n",
       "  <tbody>\n",
       "    <tr>\n",
       "      <th id=\"T_ae844_level0_row0\" class=\"row_heading level0 row0\" >0</th>\n",
       "      <td id=\"T_ae844_row0_col0\" class=\"data row0 col0\" >2692.0808</td>\n",
       "      <td id=\"T_ae844_row0_col1\" class=\"data row0 col1\" >25258915.6574</td>\n",
       "      <td id=\"T_ae844_row0_col2\" class=\"data row0 col2\" >5025.8249</td>\n",
       "      <td id=\"T_ae844_row0_col3\" class=\"data row0 col3\" >0.8378</td>\n",
       "      <td id=\"T_ae844_row0_col4\" class=\"data row0 col4\" >0.4651</td>\n",
       "      <td id=\"T_ae844_row0_col5\" class=\"data row0 col5\" >0.2847</td>\n",
       "    </tr>\n",
       "    <tr>\n",
       "      <th id=\"T_ae844_level0_row1\" class=\"row_heading level0 row1\" >1</th>\n",
       "      <td id=\"T_ae844_row1_col0\" class=\"data row1 col0\" >2627.5565</td>\n",
       "      <td id=\"T_ae844_row1_col1\" class=\"data row1 col1\" >21212231.2786</td>\n",
       "      <td id=\"T_ae844_row1_col2\" class=\"data row1 col2\" >4605.6738</td>\n",
       "      <td id=\"T_ae844_row1_col3\" class=\"data row1 col3\" >0.8843</td>\n",
       "      <td id=\"T_ae844_row1_col4\" class=\"data row1 col4\" >0.3967</td>\n",
       "      <td id=\"T_ae844_row1_col5\" class=\"data row1 col5\" >0.2439</td>\n",
       "    </tr>\n",
       "    <tr>\n",
       "      <th id=\"T_ae844_level0_row2\" class=\"row_heading level0 row2\" >2</th>\n",
       "      <td id=\"T_ae844_row2_col0\" class=\"data row2 col0\" >2914.5591</td>\n",
       "      <td id=\"T_ae844_row2_col1\" class=\"data row2 col1\" >30823481.7479</td>\n",
       "      <td id=\"T_ae844_row2_col2\" class=\"data row2 col2\" >5551.8899</td>\n",
       "      <td id=\"T_ae844_row2_col3\" class=\"data row2 col3\" >0.8179</td>\n",
       "      <td id=\"T_ae844_row2_col4\" class=\"data row2 col4\" >0.4883</td>\n",
       "      <td id=\"T_ae844_row2_col5\" class=\"data row2 col5\" >0.3436</td>\n",
       "    </tr>\n",
       "    <tr>\n",
       "      <th id=\"T_ae844_level0_row3\" class=\"row_heading level0 row3\" >3</th>\n",
       "      <td id=\"T_ae844_row3_col0\" class=\"data row3 col0\" >1999.9408</td>\n",
       "      <td id=\"T_ae844_row3_col1\" class=\"data row3 col1\" >13476677.2338</td>\n",
       "      <td id=\"T_ae844_row3_col2\" class=\"data row3 col2\" >3671.0594</td>\n",
       "      <td id=\"T_ae844_row3_col3\" class=\"data row3 col3\" >0.9179</td>\n",
       "      <td id=\"T_ae844_row3_col4\" class=\"data row3 col4\" >0.3613</td>\n",
       "      <td id=\"T_ae844_row3_col5\" class=\"data row3 col5\" >0.2777</td>\n",
       "    </tr>\n",
       "    <tr>\n",
       "      <th id=\"T_ae844_level0_row4\" class=\"row_heading level0 row4\" >4</th>\n",
       "      <td id=\"T_ae844_row4_col0\" class=\"data row4 col0\" >3009.0081</td>\n",
       "      <td id=\"T_ae844_row4_col1\" class=\"data row4 col1\" >34314709.4011</td>\n",
       "      <td id=\"T_ae844_row4_col2\" class=\"data row4 col2\" >5857.8758</td>\n",
       "      <td id=\"T_ae844_row4_col3\" class=\"data row4 col3\" >0.6800</td>\n",
       "      <td id=\"T_ae844_row4_col4\" class=\"data row4 col4\" >0.5787</td>\n",
       "      <td id=\"T_ae844_row4_col5\" class=\"data row4 col5\" >0.2448</td>\n",
       "    </tr>\n",
       "    <tr>\n",
       "      <th id=\"T_ae844_level0_row5\" class=\"row_heading level0 row5\" >5</th>\n",
       "      <td id=\"T_ae844_row5_col0\" class=\"data row5 col0\" >2414.9851</td>\n",
       "      <td id=\"T_ae844_row5_col1\" class=\"data row5 col1\" >19645954.7801</td>\n",
       "      <td id=\"T_ae844_row5_col2\" class=\"data row5 col2\" >4432.3757</td>\n",
       "      <td id=\"T_ae844_row5_col3\" class=\"data row5 col3\" >0.8399</td>\n",
       "      <td id=\"T_ae844_row5_col4\" class=\"data row5 col4\" >0.4593</td>\n",
       "      <td id=\"T_ae844_row5_col5\" class=\"data row5 col5\" >0.3501</td>\n",
       "    </tr>\n",
       "    <tr>\n",
       "      <th id=\"T_ae844_level0_row6\" class=\"row_heading level0 row6\" >6</th>\n",
       "      <td id=\"T_ae844_row6_col0\" class=\"data row6 col0\" >2722.7516</td>\n",
       "      <td id=\"T_ae844_row6_col1\" class=\"data row6 col1\" >23964166.2875</td>\n",
       "      <td id=\"T_ae844_row6_col2\" class=\"data row6 col2\" >4895.3209</td>\n",
       "      <td id=\"T_ae844_row6_col3\" class=\"data row6 col3\" >0.8103</td>\n",
       "      <td id=\"T_ae844_row6_col4\" class=\"data row6 col4\" >0.4066</td>\n",
       "      <td id=\"T_ae844_row6_col5\" class=\"data row6 col5\" >0.3088</td>\n",
       "    </tr>\n",
       "    <tr>\n",
       "      <th id=\"T_ae844_level0_row7\" class=\"row_heading level0 row7\" >7</th>\n",
       "      <td id=\"T_ae844_row7_col0\" class=\"data row7 col0\" >2502.4707</td>\n",
       "      <td id=\"T_ae844_row7_col1\" class=\"data row7 col1\" >15051773.0486</td>\n",
       "      <td id=\"T_ae844_row7_col2\" class=\"data row7 col2\" >3879.6615</td>\n",
       "      <td id=\"T_ae844_row7_col3\" class=\"data row7 col3\" >0.9180</td>\n",
       "      <td id=\"T_ae844_row7_col4\" class=\"data row7 col4\" >0.3691</td>\n",
       "      <td id=\"T_ae844_row7_col5\" class=\"data row7 col5\" >0.3014</td>\n",
       "    </tr>\n",
       "    <tr>\n",
       "      <th id=\"T_ae844_level0_row8\" class=\"row_heading level0 row8\" >8</th>\n",
       "      <td id=\"T_ae844_row8_col0\" class=\"data row8 col0\" >2097.4436</td>\n",
       "      <td id=\"T_ae844_row8_col1\" class=\"data row8 col1\" >11009028.2647</td>\n",
       "      <td id=\"T_ae844_row8_col2\" class=\"data row8 col2\" >3317.9856</td>\n",
       "      <td id=\"T_ae844_row8_col3\" class=\"data row8 col3\" >0.8705</td>\n",
       "      <td id=\"T_ae844_row8_col4\" class=\"data row8 col4\" >0.3071</td>\n",
       "      <td id=\"T_ae844_row8_col5\" class=\"data row8 col5\" >0.2518</td>\n",
       "    </tr>\n",
       "    <tr>\n",
       "      <th id=\"T_ae844_level0_row9\" class=\"row_heading level0 row9\" >9</th>\n",
       "      <td id=\"T_ae844_row9_col0\" class=\"data row9 col0\" >1962.2882</td>\n",
       "      <td id=\"T_ae844_row9_col1\" class=\"data row9 col1\" >11303775.4218</td>\n",
       "      <td id=\"T_ae844_row9_col2\" class=\"data row9 col2\" >3362.1088</td>\n",
       "      <td id=\"T_ae844_row9_col3\" class=\"data row9 col3\" >0.8813</td>\n",
       "      <td id=\"T_ae844_row9_col4\" class=\"data row9 col4\" >0.4131</td>\n",
       "      <td id=\"T_ae844_row9_col5\" class=\"data row9 col5\" >0.2735</td>\n",
       "    </tr>\n",
       "    <tr>\n",
       "      <th id=\"T_ae844_level0_row10\" class=\"row_heading level0 row10\" >Mean</th>\n",
       "      <td id=\"T_ae844_row10_col0\" class=\"data row10 col0\" >2494.3084</td>\n",
       "      <td id=\"T_ae844_row10_col1\" class=\"data row10 col1\" >20606071.3122</td>\n",
       "      <td id=\"T_ae844_row10_col2\" class=\"data row10 col2\" >4459.9776</td>\n",
       "      <td id=\"T_ae844_row10_col3\" class=\"data row10 col3\" >0.8458</td>\n",
       "      <td id=\"T_ae844_row10_col4\" class=\"data row10 col4\" >0.4245</td>\n",
       "      <td id=\"T_ae844_row10_col5\" class=\"data row10 col5\" >0.2880</td>\n",
       "    </tr>\n",
       "    <tr>\n",
       "      <th id=\"T_ae844_level0_row11\" class=\"row_heading level0 row11\" >Std</th>\n",
       "      <td id=\"T_ae844_row11_col0\" class=\"data row11 col0\" >352.4042</td>\n",
       "      <td id=\"T_ae844_row11_col1\" class=\"data row11 col1\" >7660624.5405</td>\n",
       "      <td id=\"T_ae844_row11_col2\" class=\"data row11 col2\" >845.3821</td>\n",
       "      <td id=\"T_ae844_row11_col3\" class=\"data row11 col3\" >0.0659</td>\n",
       "      <td id=\"T_ae844_row11_col4\" class=\"data row11 col4\" >0.0726</td>\n",
       "      <td id=\"T_ae844_row11_col5\" class=\"data row11 col5\" >0.0360</td>\n",
       "    </tr>\n",
       "  </tbody>\n",
       "</table>\n"
      ],
      "text/plain": [
       "<pandas.io.formats.style.Styler at 0x1310d78e0>"
      ]
     },
     "metadata": {},
     "output_type": "display_data"
    },
    {
     "data": {
      "application/vnd.jupyter.widget-view+json": {
       "model_id": "4dae1df3249d43f8985e0e51775712c0",
       "version_major": 2,
       "version_minor": 0
      },
      "text/plain": [
       "Processing:   0%|          | 0/4 [00:00<?, ?it/s]"
      ]
     },
     "metadata": {},
     "output_type": "display_data"
    }
   ],
   "source": [
    "# Instantiating the model\n",
    "gbr = create_model('gbr')"
   ]
  },
  {
   "cell_type": "markdown",
   "metadata": {},
   "source": [
    "## Model Tuning"
   ]
  },
  {
   "cell_type": "markdown",
   "metadata": {},
   "source": [
    "The Model Tuning step in PyCaret consists of **adjusting the model's hyperparameters** to optimize its performance. Instead of using default values, this phase **searches for the best combination of parameters** through techniques such as Random Grid Search."
   ]
  },
  {
   "cell_type": "code",
   "execution_count": null,
   "metadata": {},
   "outputs": [
    {
     "data": {
      "text/html": [],
      "text/plain": [
       "<IPython.core.display.HTML object>"
      ]
     },
     "metadata": {},
     "output_type": "display_data"
    },
    {
     "data": {
      "text/html": [
       "<style type=\"text/css\">\n",
       "#T_3580b_row10_col0, #T_3580b_row10_col1, #T_3580b_row10_col2, #T_3580b_row10_col3, #T_3580b_row10_col4, #T_3580b_row10_col5 {\n",
       "  background: yellow;\n",
       "}\n",
       "</style>\n",
       "<table id=\"T_3580b\">\n",
       "  <thead>\n",
       "    <tr>\n",
       "      <th class=\"blank level0\" >&nbsp;</th>\n",
       "      <th id=\"T_3580b_level0_col0\" class=\"col_heading level0 col0\" >MAE</th>\n",
       "      <th id=\"T_3580b_level0_col1\" class=\"col_heading level0 col1\" >MSE</th>\n",
       "      <th id=\"T_3580b_level0_col2\" class=\"col_heading level0 col2\" >RMSE</th>\n",
       "      <th id=\"T_3580b_level0_col3\" class=\"col_heading level0 col3\" >R2</th>\n",
       "      <th id=\"T_3580b_level0_col4\" class=\"col_heading level0 col4\" >RMSLE</th>\n",
       "      <th id=\"T_3580b_level0_col5\" class=\"col_heading level0 col5\" >MAPE</th>\n",
       "    </tr>\n",
       "    <tr>\n",
       "      <th class=\"index_name level0\" >Fold</th>\n",
       "      <th class=\"blank col0\" >&nbsp;</th>\n",
       "      <th class=\"blank col1\" >&nbsp;</th>\n",
       "      <th class=\"blank col2\" >&nbsp;</th>\n",
       "      <th class=\"blank col3\" >&nbsp;</th>\n",
       "      <th class=\"blank col4\" >&nbsp;</th>\n",
       "      <th class=\"blank col5\" >&nbsp;</th>\n",
       "    </tr>\n",
       "  </thead>\n",
       "  <tbody>\n",
       "    <tr>\n",
       "      <th id=\"T_3580b_level0_row0\" class=\"row_heading level0 row0\" >0</th>\n",
       "      <td id=\"T_3580b_row0_col0\" class=\"data row0 col0\" >3018.7954</td>\n",
       "      <td id=\"T_3580b_row0_col1\" class=\"data row0 col1\" >27184014.1774</td>\n",
       "      <td id=\"T_3580b_row0_col2\" class=\"data row0 col2\" >5213.8291</td>\n",
       "      <td id=\"T_3580b_row0_col3\" class=\"data row0 col3\" >0.8254</td>\n",
       "      <td id=\"T_3580b_row0_col4\" class=\"data row0 col4\" >0.4952</td>\n",
       "      <td id=\"T_3580b_row0_col5\" class=\"data row0 col5\" >0.3282</td>\n",
       "    </tr>\n",
       "    <tr>\n",
       "      <th id=\"T_3580b_level0_row1\" class=\"row_heading level0 row1\" >1</th>\n",
       "      <td id=\"T_3580b_row1_col0\" class=\"data row1 col0\" >2590.9251</td>\n",
       "      <td id=\"T_3580b_row1_col1\" class=\"data row1 col1\" >21081326.1634</td>\n",
       "      <td id=\"T_3580b_row1_col2\" class=\"data row1 col2\" >4591.4405</td>\n",
       "      <td id=\"T_3580b_row1_col3\" class=\"data row1 col3\" >0.8850</td>\n",
       "      <td id=\"T_3580b_row1_col4\" class=\"data row1 col4\" >0.3957</td>\n",
       "      <td id=\"T_3580b_row1_col5\" class=\"data row1 col5\" >0.2457</td>\n",
       "    </tr>\n",
       "    <tr>\n",
       "      <th id=\"T_3580b_level0_row2\" class=\"row_heading level0 row2\" >2</th>\n",
       "      <td id=\"T_3580b_row2_col0\" class=\"data row2 col0\" >3006.9781</td>\n",
       "      <td id=\"T_3580b_row2_col1\" class=\"data row2 col1\" >32118494.6325</td>\n",
       "      <td id=\"T_3580b_row2_col2\" class=\"data row2 col2\" >5667.3181</td>\n",
       "      <td id=\"T_3580b_row2_col3\" class=\"data row2 col3\" >0.8103</td>\n",
       "      <td id=\"T_3580b_row2_col4\" class=\"data row2 col4\" >0.4703</td>\n",
       "      <td id=\"T_3580b_row2_col5\" class=\"data row2 col5\" >0.3083</td>\n",
       "    </tr>\n",
       "    <tr>\n",
       "      <th id=\"T_3580b_level0_row3\" class=\"row_heading level0 row3\" >3</th>\n",
       "      <td id=\"T_3580b_row3_col0\" class=\"data row3 col0\" >1967.5294</td>\n",
       "      <td id=\"T_3580b_row3_col1\" class=\"data row3 col1\" >13712204.3697</td>\n",
       "      <td id=\"T_3580b_row3_col2\" class=\"data row3 col2\" >3702.9994</td>\n",
       "      <td id=\"T_3580b_row3_col3\" class=\"data row3 col3\" >0.9164</td>\n",
       "      <td id=\"T_3580b_row3_col4\" class=\"data row3 col4\" >0.3939</td>\n",
       "      <td id=\"T_3580b_row3_col5\" class=\"data row3 col5\" >0.3093</td>\n",
       "    </tr>\n",
       "    <tr>\n",
       "      <th id=\"T_3580b_level0_row4\" class=\"row_heading level0 row4\" >4</th>\n",
       "      <td id=\"T_3580b_row4_col0\" class=\"data row4 col0\" >3082.5206</td>\n",
       "      <td id=\"T_3580b_row4_col1\" class=\"data row4 col1\" >36577248.9270</td>\n",
       "      <td id=\"T_3580b_row4_col2\" class=\"data row4 col2\" >6047.9128</td>\n",
       "      <td id=\"T_3580b_row4_col3\" class=\"data row4 col3\" >0.6589</td>\n",
       "      <td id=\"T_3580b_row4_col4\" class=\"data row4 col4\" >0.5850</td>\n",
       "      <td id=\"T_3580b_row4_col5\" class=\"data row4 col5\" >0.2471</td>\n",
       "    </tr>\n",
       "    <tr>\n",
       "      <th id=\"T_3580b_level0_row5\" class=\"row_heading level0 row5\" >5</th>\n",
       "      <td id=\"T_3580b_row5_col0\" class=\"data row5 col0\" >2400.0926</td>\n",
       "      <td id=\"T_3580b_row5_col1\" class=\"data row5 col1\" >19009689.9243</td>\n",
       "      <td id=\"T_3580b_row5_col2\" class=\"data row5 col2\" >4360.0103</td>\n",
       "      <td id=\"T_3580b_row5_col3\" class=\"data row5 col3\" >0.8450</td>\n",
       "      <td id=\"T_3580b_row5_col4\" class=\"data row5 col4\" >0.4108</td>\n",
       "      <td id=\"T_3580b_row5_col5\" class=\"data row5 col5\" >0.3131</td>\n",
       "    </tr>\n",
       "    <tr>\n",
       "      <th id=\"T_3580b_level0_row6\" class=\"row_heading level0 row6\" >6</th>\n",
       "      <td id=\"T_3580b_row6_col0\" class=\"data row6 col0\" >2751.8003</td>\n",
       "      <td id=\"T_3580b_row6_col1\" class=\"data row6 col1\" >24506509.1942</td>\n",
       "      <td id=\"T_3580b_row6_col2\" class=\"data row6 col2\" >4950.4050</td>\n",
       "      <td id=\"T_3580b_row6_col3\" class=\"data row6 col3\" >0.8060</td>\n",
       "      <td id=\"T_3580b_row6_col4\" class=\"data row6 col4\" >0.4198</td>\n",
       "      <td id=\"T_3580b_row6_col5\" class=\"data row6 col5\" >0.3211</td>\n",
       "    </tr>\n",
       "    <tr>\n",
       "      <th id=\"T_3580b_level0_row7\" class=\"row_heading level0 row7\" >7</th>\n",
       "      <td id=\"T_3580b_row7_col0\" class=\"data row7 col0\" >2697.1972</td>\n",
       "      <td id=\"T_3580b_row7_col1\" class=\"data row7 col1\" >18040227.5162</td>\n",
       "      <td id=\"T_3580b_row7_col2\" class=\"data row7 col2\" >4247.3789</td>\n",
       "      <td id=\"T_3580b_row7_col3\" class=\"data row7 col3\" >0.9017</td>\n",
       "      <td id=\"T_3580b_row7_col4\" class=\"data row7 col4\" >0.3770</td>\n",
       "      <td id=\"T_3580b_row7_col5\" class=\"data row7 col5\" >0.3157</td>\n",
       "    </tr>\n",
       "    <tr>\n",
       "      <th id=\"T_3580b_level0_row8\" class=\"row_heading level0 row8\" >8</th>\n",
       "      <td id=\"T_3580b_row8_col0\" class=\"data row8 col0\" >2166.6087</td>\n",
       "      <td id=\"T_3580b_row8_col1\" class=\"data row8 col1\" >11732893.1920</td>\n",
       "      <td id=\"T_3580b_row8_col2\" class=\"data row8 col2\" >3425.3311</td>\n",
       "      <td id=\"T_3580b_row8_col3\" class=\"data row8 col3\" >0.8620</td>\n",
       "      <td id=\"T_3580b_row8_col4\" class=\"data row8 col4\" >0.3032</td>\n",
       "      <td id=\"T_3580b_row8_col5\" class=\"data row8 col5\" >0.2468</td>\n",
       "    </tr>\n",
       "    <tr>\n",
       "      <th id=\"T_3580b_level0_row9\" class=\"row_heading level0 row9\" >9</th>\n",
       "      <td id=\"T_3580b_row9_col0\" class=\"data row9 col0\" >2159.3293</td>\n",
       "      <td id=\"T_3580b_row9_col1\" class=\"data row9 col1\" >13238070.1823</td>\n",
       "      <td id=\"T_3580b_row9_col2\" class=\"data row9 col2\" >3638.4159</td>\n",
       "      <td id=\"T_3580b_row9_col3\" class=\"data row9 col3\" >0.8610</td>\n",
       "      <td id=\"T_3580b_row9_col4\" class=\"data row9 col4\" >0.4722</td>\n",
       "      <td id=\"T_3580b_row9_col5\" class=\"data row9 col5\" >0.3057</td>\n",
       "    </tr>\n",
       "    <tr>\n",
       "      <th id=\"T_3580b_level0_row10\" class=\"row_heading level0 row10\" >Mean</th>\n",
       "      <td id=\"T_3580b_row10_col0\" class=\"data row10 col0\" >2584.1777</td>\n",
       "      <td id=\"T_3580b_row10_col1\" class=\"data row10 col1\" >21720067.8279</td>\n",
       "      <td id=\"T_3580b_row10_col2\" class=\"data row10 col2\" >4584.5041</td>\n",
       "      <td id=\"T_3580b_row10_col3\" class=\"data row10 col3\" >0.8372</td>\n",
       "      <td id=\"T_3580b_row10_col4\" class=\"data row10 col4\" >0.4323</td>\n",
       "      <td id=\"T_3580b_row10_col5\" class=\"data row10 col5\" >0.2941</td>\n",
       "    </tr>\n",
       "    <tr>\n",
       "      <th id=\"T_3580b_level0_row11\" class=\"row_heading level0 row11\" >Std</th>\n",
       "      <td id=\"T_3580b_row11_col0\" class=\"data row11 col0\" >377.6132</td>\n",
       "      <td id=\"T_3580b_row11_col1\" class=\"data row11 col1\" >7896779.4566</td>\n",
       "      <td id=\"T_3580b_row11_col2\" class=\"data row11 col2\" >838.0871</td>\n",
       "      <td id=\"T_3580b_row11_col3\" class=\"data row11 col3\" >0.0690</td>\n",
       "      <td id=\"T_3580b_row11_col4\" class=\"data row11 col4\" >0.0731</td>\n",
       "      <td id=\"T_3580b_row11_col5\" class=\"data row11 col5\" >0.0317</td>\n",
       "    </tr>\n",
       "  </tbody>\n",
       "</table>\n"
      ],
      "text/plain": [
       "<pandas.io.formats.style.Styler at 0x130d19850>"
      ]
     },
     "metadata": {},
     "output_type": "display_data"
    },
    {
     "data": {
      "text/html": [],
      "text/plain": [
       "<IPython.core.display.HTML object>"
      ]
     },
     "metadata": {},
     "output_type": "display_data"
    },
    {
     "name": "stdout",
     "output_type": "stream",
     "text": [
      "Fitting 10 folds for each of 10 candidates, totalling 100 fits\n",
      "Original model was better than the tuned model, hence it will be returned. NOTE: The display metrics are for the tuned model (not the original one).\n"
     ]
    }
   ],
   "source": [
    "# Hyperparameter tuning\n",
    "tuned_gbr = tune_model(gbr, optimize='R2')"
   ]
  },
  {
   "cell_type": "markdown",
   "metadata": {},
   "source": [
    "In this case, the tuned model did not present better results than the original. However, it is worth **highlighting the importance and practicality** of this function."
   ]
  },
  {
   "cell_type": "markdown",
   "metadata": {},
   "source": [
    "# Evaluation"
   ]
  },
  {
   "cell_type": "markdown",
   "metadata": {},
   "source": [
    "## Interactive Model Evaluation"
   ]
  },
  {
   "cell_type": "markdown",
   "metadata": {},
   "source": [
    "The evaluate_model() function in PyCaret allows you to interactively visualize the performance of the fitted model. It generates several graphs and metrics that **help analyze the quality of predictions and identify potential problems**, such as overfitting."
   ]
  },
  {
   "cell_type": "code",
   "execution_count": null,
   "metadata": {},
   "outputs": [
    {
     "data": {
      "application/vnd.jupyter.widget-view+json": {
       "model_id": "732652287b434163bf48c5a239032b39",
       "version_major": 2,
       "version_minor": 0
      },
      "text/plain": [
       "interactive(children=(ToggleButtons(description='Plot Type:', icons=('',), options=(('Pipeline Plot', 'pipelin…"
      ]
     },
     "metadata": {},
     "output_type": "display_data"
    }
   ],
   "source": [
    "# Evaluating the model\n",
    "evaluate_model(tuned_gbr)"
   ]
  },
  {
   "cell_type": "markdown",
   "metadata": {},
   "source": [
    "## Making the predictions"
   ]
  },
  {
   "cell_type": "markdown",
   "metadata": {},
   "source": [
    "The predict_model() function in PyCaret is used to **generate predictions with a previously trained and tuned model**. It can be applied to both test data and new data sets to evaluate the model's performance.\n",
    "\n",
    "When called without a specific data set, predict_model(tuned_gbr) **returns predictions for the test data automatically separated by PyCaret**.\n",
    "\n",
    "Later on, we will also use it for data separated at the beginning, never exposed to PyCaret."
   ]
  },
  {
   "cell_type": "code",
   "execution_count": null,
   "metadata": {},
   "outputs": [
    {
     "data": {
      "text/html": [
       "<style type=\"text/css\">\n",
       "</style>\n",
       "<table id=\"T_458b7\">\n",
       "  <thead>\n",
       "    <tr>\n",
       "      <th class=\"blank level0\" >&nbsp;</th>\n",
       "      <th id=\"T_458b7_level0_col0\" class=\"col_heading level0 col0\" >Model</th>\n",
       "      <th id=\"T_458b7_level0_col1\" class=\"col_heading level0 col1\" >MAE</th>\n",
       "      <th id=\"T_458b7_level0_col2\" class=\"col_heading level0 col2\" >MSE</th>\n",
       "      <th id=\"T_458b7_level0_col3\" class=\"col_heading level0 col3\" >RMSE</th>\n",
       "      <th id=\"T_458b7_level0_col4\" class=\"col_heading level0 col4\" >R2</th>\n",
       "      <th id=\"T_458b7_level0_col5\" class=\"col_heading level0 col5\" >RMSLE</th>\n",
       "      <th id=\"T_458b7_level0_col6\" class=\"col_heading level0 col6\" >MAPE</th>\n",
       "    </tr>\n",
       "  </thead>\n",
       "  <tbody>\n",
       "    <tr>\n",
       "      <th id=\"T_458b7_level0_row0\" class=\"row_heading level0 row0\" >0</th>\n",
       "      <td id=\"T_458b7_row0_col0\" class=\"data row0 col0\" >Gradient Boosting Regressor</td>\n",
       "      <td id=\"T_458b7_row0_col1\" class=\"data row0 col1\" >2597.8849</td>\n",
       "      <td id=\"T_458b7_row0_col2\" class=\"data row0 col2\" >23370476.3041</td>\n",
       "      <td id=\"T_458b7_row0_col3\" class=\"data row0 col3\" >4834.3020</td>\n",
       "      <td id=\"T_458b7_row0_col4\" class=\"data row0 col4\" >0.8639</td>\n",
       "      <td id=\"T_458b7_row0_col5\" class=\"data row0 col5\" >0.4358</td>\n",
       "      <td id=\"T_458b7_row0_col6\" class=\"data row0 col6\" >0.3044</td>\n",
       "    </tr>\n",
       "  </tbody>\n",
       "</table>\n"
      ],
      "text/plain": [
       "<pandas.io.formats.style.Styler at 0x120f7a2e0>"
      ]
     },
     "metadata": {},
     "output_type": "display_data"
    }
   ],
   "source": [
    "# Making the predictions\n",
    "predict_model(tuned_gbr);"
   ]
  },
  {
   "cell_type": "markdown",
   "metadata": {},
   "source": [
    "We can see the R2 metric with 0.8639, **very similar** to the 0.8458 obtained with the training data."
   ]
  },
  {
   "cell_type": "markdown",
   "metadata": {},
   "source": [
    "## Finalizing the model"
   ]
  },
  {
   "cell_type": "markdown",
   "metadata": {},
   "source": [
    "The finalize_model() function in PyCaret is used to train the fine-tuned model on the **entire available dataset**, ensuring that it uses as much information as possible before deploying it.\n",
    "\n",
    "By default, PyCaret sets aside a portion of the data for testing, but **when finalizing the model, it is re-trained using 100% of the training data** to improve generalization before deploying it to new data."
   ]
  },
  {
   "cell_type": "code",
   "execution_count": null,
   "metadata": {},
   "outputs": [],
   "source": [
    "# Finalizing the model\n",
    "final_gbr = finalize_model(tuned_gbr)"
   ]
  },
  {
   "cell_type": "code",
   "execution_count": null,
   "metadata": {},
   "outputs": [
    {
     "data": {
      "text/plain": [
       "pycaret.internal.pipeline.Pipeline"
      ]
     },
     "execution_count": 128,
     "metadata": {},
     "output_type": "execute_result"
    }
   ],
   "source": [
    "type(final_gbr)"
   ]
  },
  {
   "cell_type": "code",
   "execution_count": null,
   "metadata": {},
   "outputs": [
    {
     "data": {
      "text/html": [
       "<style type=\"text/css\">\n",
       "</style>\n",
       "<table id=\"T_2bfcb\">\n",
       "  <thead>\n",
       "    <tr>\n",
       "      <th class=\"blank level0\" >&nbsp;</th>\n",
       "      <th id=\"T_2bfcb_level0_col0\" class=\"col_heading level0 col0\" >Model</th>\n",
       "      <th id=\"T_2bfcb_level0_col1\" class=\"col_heading level0 col1\" >MAE</th>\n",
       "      <th id=\"T_2bfcb_level0_col2\" class=\"col_heading level0 col2\" >MSE</th>\n",
       "      <th id=\"T_2bfcb_level0_col3\" class=\"col_heading level0 col3\" >RMSE</th>\n",
       "      <th id=\"T_2bfcb_level0_col4\" class=\"col_heading level0 col4\" >R2</th>\n",
       "      <th id=\"T_2bfcb_level0_col5\" class=\"col_heading level0 col5\" >RMSLE</th>\n",
       "      <th id=\"T_2bfcb_level0_col6\" class=\"col_heading level0 col6\" >MAPE</th>\n",
       "    </tr>\n",
       "  </thead>\n",
       "  <tbody>\n",
       "    <tr>\n",
       "      <th id=\"T_2bfcb_level0_row0\" class=\"row_heading level0 row0\" >0</th>\n",
       "      <td id=\"T_2bfcb_row0_col0\" class=\"data row0 col0\" >Gradient Boosting Regressor</td>\n",
       "      <td id=\"T_2bfcb_row0_col1\" class=\"data row0 col1\" >2168.0185</td>\n",
       "      <td id=\"T_2bfcb_row0_col2\" class=\"data row0 col2\" >14726116.5617</td>\n",
       "      <td id=\"T_2bfcb_row0_col3\" class=\"data row0 col3\" >3837.4623</td>\n",
       "      <td id=\"T_2bfcb_row0_col4\" class=\"data row0 col4\" >0.9020</td>\n",
       "      <td id=\"T_2bfcb_row0_col5\" class=\"data row0 col5\" >0.3537</td>\n",
       "      <td id=\"T_2bfcb_row0_col6\" class=\"data row0 col6\" >0.2546</td>\n",
       "    </tr>\n",
       "  </tbody>\n",
       "</table>\n"
      ],
      "text/plain": [
       "<pandas.io.formats.style.Styler at 0x1301a90d0>"
      ]
     },
     "metadata": {},
     "output_type": "display_data"
    }
   ],
   "source": [
    "# Making predictions with the model trained with all the data provided to PyCaret\n",
    "pred_holdout = predict_model(final_gbr, data=train)"
   ]
  },
  {
   "cell_type": "markdown",
   "metadata": {},
   "source": [
    "As expected, we have better metrics, as the model is being tested with data used in its training (**overfitting**)."
   ]
  },
  {
   "cell_type": "code",
   "execution_count": null,
   "metadata": {},
   "outputs": [
    {
     "name": "stdout",
     "output_type": "stream",
     "text": [
      "Pipeline(memory=Memory(location=None),\n",
      "         steps=[('numerical_imputer',\n",
      "                 TransformerWrapper(include=['age', 'bmi', 'children'],\n",
      "                                    transformer=SimpleImputer())),\n",
      "                ('categorical_imputer',\n",
      "                 TransformerWrapper(include=['sex', 'smoker', 'region'],\n",
      "                                    transformer=SimpleImputer(strategy='most_frequent'))),\n",
      "                ('ordinal_encoding',\n",
      "                 TransformerWrapper(include=['sex', 'smoker'],\n",
      "                                    transfor...\n",
      "                                                                        {'col': 'smoker',\n",
      "                                                                         'data_type': dtype('O'),\n",
      "                                                                         'mapping': no     0\n",
      "yes    1\n",
      "NaN   -1\n",
      "dtype: int64}]))),\n",
      "                ('onehot_encoding',\n",
      "                 TransformerWrapper(include=['region'],\n",
      "                                    transformer=OneHotEncoder(cols=['region'],\n",
      "                                                              handle_missing='return_nan',\n",
      "                                                              use_cat_names=True))),\n",
      "                ('normalize', TransformerWrapper(transformer=StandardScaler())),\n",
      "                ('actual_estimator',\n",
      "                 GradientBoostingRegressor(random_state=8264))])\n"
     ]
    }
   ],
   "source": [
    "# Checking the parameters\n",
    "print(final_gbr)"
   ]
  },
  {
   "cell_type": "markdown",
   "metadata": {},
   "source": [
    "## Predicting on new data\n"
   ]
  },
  {
   "cell_type": "markdown",
   "metadata": {},
   "source": [
    "We will use the **separate dataset before using Pycaret**, so as to ensure the reliability of the model."
   ]
  },
  {
   "cell_type": "code",
   "execution_count": null,
   "metadata": {},
   "outputs": [
    {
     "data": {
      "text/html": [
       "<style type=\"text/css\">\n",
       "</style>\n",
       "<table id=\"T_8713e\">\n",
       "  <thead>\n",
       "    <tr>\n",
       "      <th class=\"blank level0\" >&nbsp;</th>\n",
       "      <th id=\"T_8713e_level0_col0\" class=\"col_heading level0 col0\" >Model</th>\n",
       "      <th id=\"T_8713e_level0_col1\" class=\"col_heading level0 col1\" >MAE</th>\n",
       "      <th id=\"T_8713e_level0_col2\" class=\"col_heading level0 col2\" >MSE</th>\n",
       "      <th id=\"T_8713e_level0_col3\" class=\"col_heading level0 col3\" >RMSE</th>\n",
       "      <th id=\"T_8713e_level0_col4\" class=\"col_heading level0 col4\" >R2</th>\n",
       "      <th id=\"T_8713e_level0_col5\" class=\"col_heading level0 col5\" >RMSLE</th>\n",
       "      <th id=\"T_8713e_level0_col6\" class=\"col_heading level0 col6\" >MAPE</th>\n",
       "    </tr>\n",
       "  </thead>\n",
       "  <tbody>\n",
       "    <tr>\n",
       "      <th id=\"T_8713e_level0_row0\" class=\"row_heading level0 row0\" >0</th>\n",
       "      <td id=\"T_8713e_row0_col0\" class=\"data row0 col0\" >Gradient Boosting Regressor</td>\n",
       "      <td id=\"T_8713e_row0_col1\" class=\"data row0 col1\" >2338.6557</td>\n",
       "      <td id=\"T_8713e_row0_col2\" class=\"data row0 col2\" >16011178.8905</td>\n",
       "      <td id=\"T_8713e_row0_col3\" class=\"data row0 col3\" >4001.3971</td>\n",
       "      <td id=\"T_8713e_row0_col4\" class=\"data row0 col4\" >0.8718</td>\n",
       "      <td id=\"T_8713e_row0_col5\" class=\"data row0 col5\" >0.4091</td>\n",
       "      <td id=\"T_8713e_row0_col6\" class=\"data row0 col6\" >0.2845</td>\n",
       "    </tr>\n",
       "  </tbody>\n",
       "</table>\n"
      ],
      "text/plain": [
       "<pandas.io.formats.style.Styler at 0x130125670>"
      ]
     },
     "metadata": {},
     "output_type": "display_data"
    },
    {
     "data": {
      "text/html": [
       "<div>\n",
       "<style scoped>\n",
       "    .dataframe tbody tr th:only-of-type {\n",
       "        vertical-align: middle;\n",
       "    }\n",
       "\n",
       "    .dataframe tbody tr th {\n",
       "        vertical-align: top;\n",
       "    }\n",
       "\n",
       "    .dataframe thead th {\n",
       "        text-align: right;\n",
       "    }\n",
       "</style>\n",
       "<table border=\"1\" class=\"dataframe\">\n",
       "  <thead>\n",
       "    <tr style=\"text-align: right;\">\n",
       "      <th></th>\n",
       "      <th>age</th>\n",
       "      <th>sex</th>\n",
       "      <th>bmi</th>\n",
       "      <th>children</th>\n",
       "      <th>smoker</th>\n",
       "      <th>region</th>\n",
       "      <th>charges</th>\n",
       "      <th>prediction_label</th>\n",
       "    </tr>\n",
       "  </thead>\n",
       "  <tbody>\n",
       "    <tr>\n",
       "      <th>0</th>\n",
       "      <td>18</td>\n",
       "      <td>female</td>\n",
       "      <td>28.215000</td>\n",
       "      <td>0</td>\n",
       "      <td>no</td>\n",
       "      <td>northeast</td>\n",
       "      <td>2200.830811</td>\n",
       "      <td>3907.452642</td>\n",
       "    </tr>\n",
       "    <tr>\n",
       "      <th>1</th>\n",
       "      <td>26</td>\n",
       "      <td>male</td>\n",
       "      <td>32.900002</td>\n",
       "      <td>2</td>\n",
       "      <td>yes</td>\n",
       "      <td>southwest</td>\n",
       "      <td>36085.218750</td>\n",
       "      <td>34719.015207</td>\n",
       "    </tr>\n",
       "    <tr>\n",
       "      <th>2</th>\n",
       "      <td>50</td>\n",
       "      <td>male</td>\n",
       "      <td>32.299999</td>\n",
       "      <td>2</td>\n",
       "      <td>no</td>\n",
       "      <td>southwest</td>\n",
       "      <td>9630.397461</td>\n",
       "      <td>11540.352690</td>\n",
       "    </tr>\n",
       "    <tr>\n",
       "      <th>3</th>\n",
       "      <td>49</td>\n",
       "      <td>female</td>\n",
       "      <td>27.170000</td>\n",
       "      <td>0</td>\n",
       "      <td>no</td>\n",
       "      <td>southeast</td>\n",
       "      <td>8601.329102</td>\n",
       "      <td>11452.363425</td>\n",
       "    </tr>\n",
       "    <tr>\n",
       "      <th>4</th>\n",
       "      <td>57</td>\n",
       "      <td>female</td>\n",
       "      <td>38.000000</td>\n",
       "      <td>2</td>\n",
       "      <td>no</td>\n",
       "      <td>southwest</td>\n",
       "      <td>12646.207031</td>\n",
       "      <td>14812.582825</td>\n",
       "    </tr>\n",
       "  </tbody>\n",
       "</table>\n",
       "</div>"
      ],
      "text/plain": [
       "   age     sex        bmi  children smoker     region       charges  \\\n",
       "0   18  female  28.215000         0     no  northeast   2200.830811   \n",
       "1   26    male  32.900002         2    yes  southwest  36085.218750   \n",
       "2   50    male  32.299999         2     no  southwest   9630.397461   \n",
       "3   49  female  27.170000         0     no  southeast   8601.329102   \n",
       "4   57  female  38.000000         2     no  southwest  12646.207031   \n",
       "\n",
       "   prediction_label  \n",
       "0       3907.452642  \n",
       "1      34719.015207  \n",
       "2      11540.352690  \n",
       "3      11452.363425  \n",
       "4      14812.582825  "
      ]
     },
     "execution_count": 104,
     "metadata": {},
     "output_type": "execute_result"
    }
   ],
   "source": [
    "# Making Predictions with Unseen Data\n",
    "unseen_predictions = predict_model(final_gbr, data=test)\n",
    "unseen_predictions.head()"
   ]
  },
  {
   "cell_type": "markdown",
   "metadata": {},
   "source": [
    "R2 of 0.8718, **very similar** to the results obtained by the PyCaret test set, making the model acceptable."
   ]
  },
  {
   "cell_type": "markdown",
   "metadata": {},
   "source": [
    "# Saving the model"
   ]
  },
  {
   "cell_type": "markdown",
   "metadata": {},
   "source": [
    "The save_model() function is used to save a trained and finalized model, allowing it to be easily loaded and used later without the need for retraining. This is especially **useful for production deployment**, where the model can be saved and reused to make predictions in real time or on new datasets.\n",
    "\n",
    "The model is saved in a pickle file format (.pkl), which makes it easy to store and portable across environments."
   ]
  },
  {
   "cell_type": "code",
   "execution_count": null,
   "metadata": {},
   "outputs": [
    {
     "name": "stdout",
     "output_type": "stream",
     "text": [
      "Transformation Pipeline and Model Successfully Saved\n"
     ]
    },
    {
     "data": {
      "text/plain": [
       "(Pipeline(memory=Memory(location=None),\n",
       "          steps=[('numerical_imputer',\n",
       "                  TransformerWrapper(include=['age', 'bmi', 'children'],\n",
       "                                     transformer=SimpleImputer())),\n",
       "                 ('categorical_imputer',\n",
       "                  TransformerWrapper(include=['sex', 'smoker', 'region'],\n",
       "                                     transformer=SimpleImputer(strategy='most_frequent'))),\n",
       "                 ('ordinal_encoding',\n",
       "                  TransformerWrapper(include=['sex', 'smoker'],\n",
       "                                     transfor...\n",
       "                                                                         {'col': 'smoker',\n",
       "                                                                          'data_type': dtype('O'),\n",
       "                                                                          'mapping': no     0\n",
       " yes    1\n",
       " NaN   -1\n",
       " dtype: int64}]))),\n",
       "                 ('onehot_encoding',\n",
       "                  TransformerWrapper(include=['region'],\n",
       "                                     transformer=OneHotEncoder(cols=['region'],\n",
       "                                                               handle_missing='return_nan',\n",
       "                                                               use_cat_names=True))),\n",
       "                 ('normalize', TransformerWrapper(transformer=StandardScaler())),\n",
       "                 ('actual_estimator',\n",
       "                  GradientBoostingRegressor(random_state=8264))]),\n",
       " 'Modelo_Final_03_06_25.pkl')"
      ]
     },
     "execution_count": 131,
     "metadata": {},
     "output_type": "execute_result"
    }
   ],
   "source": [
    "save_model(final_gbr,'Modelo_Final_03_06_25')"
   ]
  },
  {
   "cell_type": "markdown",
   "metadata": {},
   "source": [
    "## Loading a model"
   ]
  },
  {
   "cell_type": "markdown",
   "metadata": {},
   "source": []
  },
  {
   "cell_type": "code",
   "execution_count": null,
   "metadata": {},
   "outputs": [
    {
     "name": "stdout",
     "output_type": "stream",
     "text": [
      "Transformation Pipeline and Model Successfully Loaded\n"
     ]
    }
   ],
   "source": [
    "# Loading a saved model\n",
    "saved_final_gbr = load_model('Modelo_Final_03_06_25')"
   ]
  },
  {
   "cell_type": "code",
   "execution_count": null,
   "metadata": {},
   "outputs": [
    {
     "data": {
      "text/html": [
       "<style type=\"text/css\">\n",
       "</style>\n",
       "<table id=\"T_4fcfa\">\n",
       "  <thead>\n",
       "    <tr>\n",
       "      <th class=\"blank level0\" >&nbsp;</th>\n",
       "      <th id=\"T_4fcfa_level0_col0\" class=\"col_heading level0 col0\" >Model</th>\n",
       "      <th id=\"T_4fcfa_level0_col1\" class=\"col_heading level0 col1\" >MAE</th>\n",
       "      <th id=\"T_4fcfa_level0_col2\" class=\"col_heading level0 col2\" >MSE</th>\n",
       "      <th id=\"T_4fcfa_level0_col3\" class=\"col_heading level0 col3\" >RMSE</th>\n",
       "      <th id=\"T_4fcfa_level0_col4\" class=\"col_heading level0 col4\" >R2</th>\n",
       "      <th id=\"T_4fcfa_level0_col5\" class=\"col_heading level0 col5\" >RMSLE</th>\n",
       "      <th id=\"T_4fcfa_level0_col6\" class=\"col_heading level0 col6\" >MAPE</th>\n",
       "    </tr>\n",
       "  </thead>\n",
       "  <tbody>\n",
       "    <tr>\n",
       "      <th id=\"T_4fcfa_level0_row0\" class=\"row_heading level0 row0\" >0</th>\n",
       "      <td id=\"T_4fcfa_row0_col0\" class=\"data row0 col0\" >Gradient Boosting Regressor</td>\n",
       "      <td id=\"T_4fcfa_row0_col1\" class=\"data row0 col1\" >2227.6783</td>\n",
       "      <td id=\"T_4fcfa_row0_col2\" class=\"data row0 col2\" >14881735.4755</td>\n",
       "      <td id=\"T_4fcfa_row0_col3\" class=\"data row0 col3\" >3857.6852</td>\n",
       "      <td id=\"T_4fcfa_row0_col4\" class=\"data row0 col4\" >0.8866</td>\n",
       "      <td id=\"T_4fcfa_row0_col5\" class=\"data row0 col5\" >0.3522</td>\n",
       "      <td id=\"T_4fcfa_row0_col6\" class=\"data row0 col6\" >0.2624</td>\n",
       "    </tr>\n",
       "  </tbody>\n",
       "</table>\n"
      ],
      "text/plain": [
       "<pandas.io.formats.style.Styler at 0x130259eb0>"
      ]
     },
     "metadata": {},
     "output_type": "display_data"
    },
    {
     "data": {
      "text/html": [
       "<div>\n",
       "<style scoped>\n",
       "    .dataframe tbody tr th:only-of-type {\n",
       "        vertical-align: middle;\n",
       "    }\n",
       "\n",
       "    .dataframe tbody tr th {\n",
       "        vertical-align: top;\n",
       "    }\n",
       "\n",
       "    .dataframe thead th {\n",
       "        text-align: right;\n",
       "    }\n",
       "</style>\n",
       "<table border=\"1\" class=\"dataframe\">\n",
       "  <thead>\n",
       "    <tr style=\"text-align: right;\">\n",
       "      <th></th>\n",
       "      <th>age</th>\n",
       "      <th>sex</th>\n",
       "      <th>bmi</th>\n",
       "      <th>children</th>\n",
       "      <th>smoker</th>\n",
       "      <th>region</th>\n",
       "      <th>charges</th>\n",
       "      <th>prediction_label</th>\n",
       "    </tr>\n",
       "  </thead>\n",
       "  <tbody>\n",
       "    <tr>\n",
       "      <th>0</th>\n",
       "      <td>50</td>\n",
       "      <td>male</td>\n",
       "      <td>34.200001</td>\n",
       "      <td>2</td>\n",
       "      <td>yes</td>\n",
       "      <td>southwest</td>\n",
       "      <td>42856.839844</td>\n",
       "      <td>42078.306828</td>\n",
       "    </tr>\n",
       "    <tr>\n",
       "      <th>1</th>\n",
       "      <td>27</td>\n",
       "      <td>female</td>\n",
       "      <td>24.100000</td>\n",
       "      <td>0</td>\n",
       "      <td>no</td>\n",
       "      <td>southwest</td>\n",
       "      <td>2974.125977</td>\n",
       "      <td>7262.706422</td>\n",
       "    </tr>\n",
       "    <tr>\n",
       "      <th>2</th>\n",
       "      <td>51</td>\n",
       "      <td>male</td>\n",
       "      <td>33.330002</td>\n",
       "      <td>3</td>\n",
       "      <td>no</td>\n",
       "      <td>southeast</td>\n",
       "      <td>10560.492188</td>\n",
       "      <td>11780.298853</td>\n",
       "    </tr>\n",
       "    <tr>\n",
       "      <th>3</th>\n",
       "      <td>38</td>\n",
       "      <td>female</td>\n",
       "      <td>34.799999</td>\n",
       "      <td>2</td>\n",
       "      <td>no</td>\n",
       "      <td>southwest</td>\n",
       "      <td>6571.543945</td>\n",
       "      <td>8053.835581</td>\n",
       "    </tr>\n",
       "    <tr>\n",
       "      <th>4</th>\n",
       "      <td>27</td>\n",
       "      <td>male</td>\n",
       "      <td>32.584999</td>\n",
       "      <td>3</td>\n",
       "      <td>no</td>\n",
       "      <td>northeast</td>\n",
       "      <td>4846.919922</td>\n",
       "      <td>7291.681332</td>\n",
       "    </tr>\n",
       "  </tbody>\n",
       "</table>\n",
       "</div>"
      ],
      "text/plain": [
       "   age     sex        bmi  children smoker     region       charges  \\\n",
       "0   50    male  34.200001         2    yes  southwest  42856.839844   \n",
       "1   27  female  24.100000         0     no  southwest   2974.125977   \n",
       "2   51    male  33.330002         3     no  southeast  10560.492188   \n",
       "3   38  female  34.799999         2     no  southwest   6571.543945   \n",
       "4   27    male  32.584999         3     no  northeast   4846.919922   \n",
       "\n",
       "   prediction_label  \n",
       "0      42078.306828  \n",
       "1       7262.706422  \n",
       "2      11780.298853  \n",
       "3       8053.835581  \n",
       "4       7291.681332  "
      ]
     },
     "execution_count": 133,
     "metadata": {},
     "output_type": "execute_result"
    }
   ],
   "source": [
    "# Making new predictions with the saved model\n",
    "new_prediction = predict_model(saved_final_gbr, data=test)\n",
    "new_prediction.head()"
   ]
  }
 ],
 "metadata": {
  "kernelspec": {
   "display_name": "venv_classification",
   "language": "python",
   "name": "python3"
  },
  "language_info": {
   "codemirror_mode": {
    "name": "ipython",
    "version": 3
   },
   "file_extension": ".py",
   "mimetype": "text/x-python",
   "name": "python",
   "nbconvert_exporter": "python",
   "pygments_lexer": "ipython3",
   "version": "3.10.0"
  }
 },
 "nbformat": 4,
 "nbformat_minor": 2
}
